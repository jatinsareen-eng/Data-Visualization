{
 "cells": [
  {
   "cell_type": "markdown",
   "id": "5410f375-4b8e-46f2-9c58-e23d28471ed8",
   "metadata": {},
   "source": [
    "#### Sort ,count and search function"
   ]
  },
  {
   "cell_type": "code",
   "execution_count": 1,
   "id": "2a0c057f-8ec5-4a23-9865-a6eaaa0649c3",
   "metadata": {},
   "outputs": [],
   "source": [
    "import numpy as np "
   ]
  },
  {
   "cell_type": "code",
   "execution_count": 12,
   "id": "4b1a4cab-fbb8-4745-b787-0e095b07cad0",
   "metadata": {},
   "outputs": [],
   "source": [
    "arr1=np.array([4,3,7,6,8,1,9])"
   ]
  },
  {
   "cell_type": "code",
   "execution_count": 13,
   "id": "eefc2c28-6b06-4d62-b7e6-e0f3068e153a",
   "metadata": {},
   "outputs": [
    {
     "data": {
      "text/plain": [
       "array([4, 3, 7, 6, 8, 1, 9])"
      ]
     },
     "execution_count": 13,
     "metadata": {},
     "output_type": "execute_result"
    }
   ],
   "source": [
    "arr1"
   ]
  },
  {
   "cell_type": "code",
   "execution_count": 14,
   "id": "7ed2a9cd-6f29-4bb8-8d91-a5a4fe69d1cd",
   "metadata": {},
   "outputs": [
    {
     "data": {
      "text/plain": [
       "array([1, 3, 4, 6, 7, 8, 9])"
      ]
     },
     "execution_count": 14,
     "metadata": {},
     "output_type": "execute_result"
    }
   ],
   "source": [
    "np.sort(arr1)"
   ]
  },
  {
   "cell_type": "code",
   "execution_count": 15,
   "id": "b9ef241c-abd4-4061-9720-bdcfbf6925a9",
   "metadata": {},
   "outputs": [
    {
     "data": {
      "text/plain": [
       "2"
      ]
     },
     "execution_count": 15,
     "metadata": {},
     "output_type": "execute_result"
    }
   ],
   "source": [
    "#Searchsorted :Find indices where elements should be inserted to maintain order.\n",
    "np.searchsorted(arr1,5)"
   ]
  },
  {
   "cell_type": "code",
   "execution_count": 18,
   "id": "0abcd9bc-ebfd-40af-b9eb-0ede0367b34f",
   "metadata": {},
   "outputs": [],
   "source": [
    "#Count function\n",
    "arr2=np.array([0,0,21,4,0,0,6,76,0,0,58,0])"
   ]
  },
  {
   "cell_type": "code",
   "execution_count": 19,
   "id": "9cbe51fb-3b16-43fb-bd80-7cae4b15e1a2",
   "metadata": {},
   "outputs": [
    {
     "data": {
      "text/plain": [
       "array([ 0,  0, 21,  4,  0,  0,  6, 76,  0,  0, 58,  0])"
      ]
     },
     "execution_count": 19,
     "metadata": {},
     "output_type": "execute_result"
    }
   ],
   "source": [
    "arr2"
   ]
  },
  {
   "cell_type": "code",
   "execution_count": 20,
   "id": "4d1c0a52-744f-451e-b863-dc5e38af7442",
   "metadata": {},
   "outputs": [
    {
     "data": {
      "text/plain": [
       "5"
      ]
     },
     "execution_count": 20,
     "metadata": {},
     "output_type": "execute_result"
    }
   ],
   "source": [
    "np.count_nonzero(arr2)"
   ]
  },
  {
   "cell_type": "code",
   "execution_count": 22,
   "id": "8f06e644-dde4-4403-a867-4c5506fc00e4",
   "metadata": {},
   "outputs": [
    {
     "data": {
      "text/plain": [
       "(array([ 2,  7, 10]),)"
      ]
     },
     "execution_count": 22,
     "metadata": {},
     "output_type": "execute_result"
    }
   ],
   "source": [
    "#Where: it gives indices of element to be search\n",
    "np.where(arr2>6)"
   ]
  },
  {
   "cell_type": "code",
   "execution_count": 24,
   "id": "0dc918a5-655f-40ad-9288-e321df832940",
   "metadata": {},
   "outputs": [
    {
     "data": {
      "text/plain": [
       "array([21,  6, 76, 58])"
      ]
     },
     "execution_count": 24,
     "metadata": {},
     "output_type": "execute_result"
    }
   ],
   "source": [
    "#extract : filter the data \n",
    "np.extract(arr2>5,arr2)"
   ]
  },
  {
   "cell_type": "markdown",
   "id": "4b5778c7-ef46-4af0-95ab-5b68fde07125",
   "metadata": {},
   "source": [
    "#### Byte swapping: represent the data in byte"
   ]
  },
  {
   "cell_type": "code",
   "execution_count": 25,
   "id": "b3107f04-a8fe-4bd7-a4c6-e8b990167a08",
   "metadata": {},
   "outputs": [
    {
     "data": {
      "text/plain": [
       "array([ 0,  0, 21,  4,  0,  0,  6, 76,  0,  0, 58,  0])"
      ]
     },
     "execution_count": 25,
     "metadata": {},
     "output_type": "execute_result"
    }
   ],
   "source": [
    "arr2"
   ]
  },
  {
   "cell_type": "code",
   "execution_count": 26,
   "id": "06ea1f44-0868-4278-806a-3275338d1be9",
   "metadata": {},
   "outputs": [
    {
     "data": {
      "text/plain": [
       "array([                  0,                   0, 1513209474796486656,\n",
       "        288230376151711744,                   0,                   0,\n",
       "        432345564227567616, 5476377146882523136,                   0,\n",
       "                         0, 4179340454199820288,                   0])"
      ]
     },
     "execution_count": 26,
     "metadata": {},
     "output_type": "execute_result"
    }
   ],
   "source": [
    "arr2.byteswap()"
   ]
  },
  {
   "cell_type": "code",
   "execution_count": 28,
   "id": "0944b516-60bb-4906-a5ce-4aa3102055a1",
   "metadata": {},
   "outputs": [
    {
     "data": {
      "text/plain": [
       "array([ 0,  0, 21,  4,  0,  0,  6, 76,  0,  0, 58,  0])"
      ]
     },
     "execution_count": 28,
     "metadata": {},
     "output_type": "execute_result"
    }
   ],
   "source": [
    "arr2  #The above operation is not permanent"
   ]
  },
  {
   "cell_type": "code",
   "execution_count": 29,
   "id": "96fc401c-428b-4aca-aae3-db2a9fa14b04",
   "metadata": {},
   "outputs": [
    {
     "data": {
      "text/plain": [
       "array([                  0,                   0, 1513209474796486656,\n",
       "        288230376151711744,                   0,                   0,\n",
       "        432345564227567616, 5476377146882523136,                   0,\n",
       "                         0, 4179340454199820288,                   0])"
      ]
     },
     "execution_count": 29,
     "metadata": {},
     "output_type": "execute_result"
    }
   ],
   "source": [
    "arr2.byteswap(True)"
   ]
  },
  {
   "cell_type": "code",
   "execution_count": 30,
   "id": "083f7e36-22df-4cd9-9a49-29d80fd2d3b2",
   "metadata": {},
   "outputs": [
    {
     "data": {
      "text/plain": [
       "array([                  0,                   0, 1513209474796486656,\n",
       "        288230376151711744,                   0,                   0,\n",
       "        432345564227567616, 5476377146882523136,                   0,\n",
       "                         0, 4179340454199820288,                   0])"
      ]
     },
     "execution_count": 30,
     "metadata": {},
     "output_type": "execute_result"
    }
   ],
   "source": [
    "arr2   #Now it become permanent (just like inplace =True)"
   ]
  },
  {
   "cell_type": "markdown",
   "id": "3b07bfbd-d465-4984-ac09-8fa32ce40250",
   "metadata": {},
   "source": [
    "#### Copies and views"
   ]
  },
  {
   "cell_type": "code",
   "execution_count": 32,
   "id": "26eb7e84-5657-4011-ba88-913f33a07c3d",
   "metadata": {},
   "outputs": [
    {
     "data": {
      "text/plain": [
       "array([4, 3, 7, 6, 8, 1, 9])"
      ]
     },
     "execution_count": 32,
     "metadata": {},
     "output_type": "execute_result"
    }
   ],
   "source": [
    "arr1"
   ]
  },
  {
   "cell_type": "code",
   "execution_count": 35,
   "id": "855aff3b-bcfe-4239-ac21-08b11fc23c8e",
   "metadata": {},
   "outputs": [],
   "source": [
    "a=np.copy(arr1)  # deep copy"
   ]
  },
  {
   "cell_type": "code",
   "execution_count": 36,
   "id": "35166b04-ab8a-4738-9222-17a75fe5fbf2",
   "metadata": {},
   "outputs": [
    {
     "data": {
      "text/plain": [
       "array([4, 3, 7, 6, 8, 1, 9])"
      ]
     },
     "execution_count": 36,
     "metadata": {},
     "output_type": "execute_result"
    }
   ],
   "source": [
    "a"
   ]
  },
  {
   "cell_type": "code",
   "execution_count": 37,
   "id": "6ca82686-33a9-4349-bf8a-31ad21c6ecf3",
   "metadata": {},
   "outputs": [],
   "source": [
    "b=arr1.view()  #shallow copy  (just like b == arr1)"
   ]
  },
  {
   "cell_type": "code",
   "execution_count": 38,
   "id": "66df6c9b-b60b-454e-a99f-219ce981568c",
   "metadata": {},
   "outputs": [
    {
     "data": {
      "text/plain": [
       "array([4, 3, 7, 6, 8, 1, 9])"
      ]
     },
     "execution_count": 38,
     "metadata": {},
     "output_type": "execute_result"
    }
   ],
   "source": [
    "b"
   ]
  },
  {
   "cell_type": "code",
   "execution_count": 39,
   "id": "7690361f-afdc-410d-a811-8e0f6d531390",
   "metadata": {},
   "outputs": [],
   "source": [
    "b[2]=50"
   ]
  },
  {
   "cell_type": "code",
   "execution_count": 40,
   "id": "6f61e6ac-1ede-496e-bcc7-e2a90b8e8db6",
   "metadata": {},
   "outputs": [
    {
     "data": {
      "text/plain": [
       "array([ 4,  3, 50,  6,  8,  1,  9])"
      ]
     },
     "execution_count": 40,
     "metadata": {},
     "output_type": "execute_result"
    }
   ],
   "source": [
    "b"
   ]
  },
  {
   "cell_type": "code",
   "execution_count": 41,
   "id": "425f8523-6b6c-47ab-bb01-eb77f722281b",
   "metadata": {},
   "outputs": [
    {
     "data": {
      "text/plain": [
       "array([ 4,  3, 50,  6,  8,  1,  9])"
      ]
     },
     "execution_count": 41,
     "metadata": {},
     "output_type": "execute_result"
    }
   ],
   "source": [
    "arr1"
   ]
  },
  {
   "cell_type": "markdown",
   "id": "596daafc-6fde-47db-a1dc-597f64808d22",
   "metadata": {},
   "source": [
    "#### Matrix Library"
   ]
  },
  {
   "cell_type": "code",
   "execution_count": 42,
   "id": "5755caee-23b3-46bf-8ded-4324ad8de3ff",
   "metadata": {},
   "outputs": [],
   "source": [
    "import numpy.matlib as nm   # matlib is matrix library"
   ]
  },
  {
   "cell_type": "code",
   "execution_count": 44,
   "id": "3764ce6b-0a61-4804-a046-8fb33ceeb374",
   "metadata": {},
   "outputs": [
    {
     "data": {
      "text/plain": [
       "matrix([[0., 0., 0., 0., 0.]])"
      ]
     },
     "execution_count": 44,
     "metadata": {},
     "output_type": "execute_result"
    }
   ],
   "source": [
    "nm.zeros(5)  # gives 2-D array"
   ]
  },
  {
   "cell_type": "code",
   "execution_count": 45,
   "id": "eb8ebcac-61d2-4557-b852-5eaac7c93983",
   "metadata": {},
   "outputs": [
    {
     "data": {
      "text/plain": [
       "matrix([[1., 1., 1., 1.],\n",
       "        [1., 1., 1., 1.],\n",
       "        [1., 1., 1., 1.]])"
      ]
     },
     "execution_count": 45,
     "metadata": {},
     "output_type": "execute_result"
    }
   ],
   "source": [
    "nm.ones((3,4))"
   ]
  },
  {
   "cell_type": "code",
   "execution_count": 46,
   "id": "73fec6b0-8681-47fb-bc05-341b79346730",
   "metadata": {},
   "outputs": [
    {
     "data": {
      "text/plain": [
       "matrix([[1., 0., 0., 0.],\n",
       "        [0., 1., 0., 0.],\n",
       "        [0., 0., 1., 0.],\n",
       "        [0., 0., 0., 1.]])"
      ]
     },
     "execution_count": 46,
     "metadata": {},
     "output_type": "execute_result"
    }
   ],
   "source": [
    "nm.eye(4)    #identity matrix"
   ]
  },
  {
   "cell_type": "markdown",
   "id": "3c8bace1-39b4-4dd3-8a8d-90dc3150c6ab",
   "metadata": {},
   "source": [
    "#### linear algebra "
   ]
  },
  {
   "cell_type": "code",
   "execution_count": 53,
   "id": "fc1fe8c7-0322-43d0-ac42-c3f5a387e969",
   "metadata": {},
   "outputs": [],
   "source": [
    "arr1=np.random.randint([[2,3],[5,4]])"
   ]
  },
  {
   "cell_type": "code",
   "execution_count": 54,
   "id": "335e6a79-e81e-4f8b-b3e6-906d12a0d673",
   "metadata": {},
   "outputs": [],
   "source": [
    "arr2=np.random.randint([[5,3],[2,5]])"
   ]
  },
  {
   "cell_type": "code",
   "execution_count": 55,
   "id": "da731509-98cd-43ca-a0dd-69e180bcd5e1",
   "metadata": {},
   "outputs": [
    {
     "data": {
      "text/plain": [
       "array([[0, 0],\n",
       "       [0, 2]])"
      ]
     },
     "execution_count": 55,
     "metadata": {},
     "output_type": "execute_result"
    }
   ],
   "source": [
    "arr1"
   ]
  },
  {
   "cell_type": "code",
   "execution_count": 56,
   "id": "6d092353-7b62-4aff-90d3-7a5444b379b7",
   "metadata": {},
   "outputs": [
    {
     "data": {
      "text/plain": [
       "array([[1, 1],\n",
       "       [0, 2]])"
      ]
     },
     "execution_count": 56,
     "metadata": {},
     "output_type": "execute_result"
    }
   ],
   "source": [
    "arr2"
   ]
  },
  {
   "cell_type": "code",
   "execution_count": 57,
   "id": "b1d73161-193a-4583-809c-0c902637939f",
   "metadata": {},
   "outputs": [
    {
     "data": {
      "text/plain": [
       "array([[0, 0],\n",
       "       [0, 4]])"
      ]
     },
     "execution_count": 57,
     "metadata": {},
     "output_type": "execute_result"
    }
   ],
   "source": [
    "# Dot product of these 2 arrays\n",
    "np.dot(arr1,arr2)"
   ]
  },
  {
   "cell_type": "code",
   "execution_count": 58,
   "id": "11f1fdb2-9bad-4546-9306-8f9ea918721a",
   "metadata": {},
   "outputs": [
    {
     "data": {
      "text/plain": [
       "array([[0, 0],\n",
       "       [0, 4]])"
      ]
     },
     "execution_count": 58,
     "metadata": {},
     "output_type": "execute_result"
    }
   ],
   "source": [
    "# The dot product is actually the matrix multiplication\n",
    "arr1@arr2   #Same result "
   ]
  }
 ],
 "metadata": {
  "kernelspec": {
   "display_name": "Python 3 (ipykernel)",
   "language": "python",
   "name": "python3"
  },
  "language_info": {
   "codemirror_mode": {
    "name": "ipython",
    "version": 3
   },
   "file_extension": ".py",
   "mimetype": "text/x-python",
   "name": "python",
   "nbconvert_exporter": "python",
   "pygments_lexer": "ipython3",
   "version": "3.10.8"
  }
 },
 "nbformat": 4,
 "nbformat_minor": 5
}
