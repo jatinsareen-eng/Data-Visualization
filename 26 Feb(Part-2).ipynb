{
 "cells": [
  {
   "cell_type": "code",
   "execution_count": 1,
   "id": "99d97808-ccd1-4005-b178-f9f22dc7c425",
   "metadata": {},
   "outputs": [],
   "source": [
    "import numpy as np"
   ]
  },
  {
   "cell_type": "code",
   "execution_count": 2,
   "id": "2a8d4158-4558-470d-873f-2ff942e61b90",
   "metadata": {},
   "outputs": [
    {
     "data": {
      "text/plain": [
       "[0, 1, 2, 3, 4]"
      ]
     },
     "execution_count": 2,
     "metadata": {},
     "output_type": "execute_result"
    }
   ],
   "source": [
    "#range function\n",
    "list(range(5))"
   ]
  },
  {
   "cell_type": "code",
   "execution_count": 3,
   "id": "afaae3e8-8335-44f8-979f-914290d9de5e",
   "metadata": {},
   "outputs": [
    {
     "ename": "TypeError",
     "evalue": "'float' object cannot be interpreted as an integer",
     "output_type": "error",
     "traceback": [
      "\u001b[0;31m---------------------------------------------------------------------------\u001b[0m",
      "\u001b[0;31mTypeError\u001b[0m                                 Traceback (most recent call last)",
      "Cell \u001b[0;32mIn[3], line 3\u001b[0m\n\u001b[1;32m      1\u001b[0m \u001b[38;5;66;03m# We can only assign integer value to the range function\u001b[39;00m\n\u001b[1;32m      2\u001b[0m \u001b[38;5;66;03m# Range function only takes the integer value \u001b[39;00m\n\u001b[0;32m----> 3\u001b[0m \u001b[38;5;28mlist\u001b[39m(\u001b[38;5;28;43mrange\u001b[39;49m\u001b[43m(\u001b[49m\u001b[38;5;241;43m1.4\u001b[39;49m\u001b[43m,\u001b[49m\u001b[38;5;241;43m4.4\u001b[39;49m\u001b[43m)\u001b[49m)\n",
      "\u001b[0;31mTypeError\u001b[0m: 'float' object cannot be interpreted as an integer"
     ]
    }
   ],
   "source": [
    "# We can only assign integer value to the range function\n",
    "# Range function only takes the integer value \n",
    "list(range(1.4,4.4))"
   ]
  },
  {
   "cell_type": "markdown",
   "id": "e0d56c9d-5fb4-48d7-8383-74d607324908",
   "metadata": {},
   "source": [
    "#### arange function in numpy: It is a alternative of the range function \n",
    "it will able to generate floating point number"
   ]
  },
  {
   "cell_type": "code",
   "execution_count": 4,
   "id": "55775685-cc3c-457b-b639-115d3ebb2a57",
   "metadata": {},
   "outputs": [
    {
     "data": {
      "text/plain": [
       "array([1.4, 1.6, 1.8, 2. , 2.2, 2.4, 2.6, 2.8, 3. , 3.2, 3.4, 3.6, 3.8,\n",
       "       4. , 4.2, 4.4, 4.6, 4.8, 5. , 5.2])"
      ]
     },
     "execution_count": 4,
     "metadata": {},
     "output_type": "execute_result"
    }
   ],
   "source": [
    "np.arange(1.4,5.4,0.2)   # ( start , end , step size)"
   ]
  },
  {
   "cell_type": "code",
   "execution_count": 5,
   "id": "f68f5729-f255-4b72-9888-b61e54a4ac46",
   "metadata": {},
   "outputs": [
    {
     "data": {
      "text/plain": [
       "[1.4,\n",
       " 1.5999999999999999,\n",
       " 1.7999999999999998,\n",
       " 1.9999999999999998,\n",
       " 2.1999999999999997,\n",
       " 2.3999999999999995,\n",
       " 2.5999999999999996,\n",
       " 2.8,\n",
       " 2.9999999999999996,\n",
       " 3.1999999999999993,\n",
       " 3.3999999999999995,\n",
       " 3.599999999999999,\n",
       " 3.7999999999999994,\n",
       " 3.9999999999999996,\n",
       " 4.199999999999999,\n",
       " 4.399999999999999,\n",
       " 4.6,\n",
       " 4.799999999999999,\n",
       " 4.999999999999999,\n",
       " 5.199999999999999]"
      ]
     },
     "execution_count": 5,
     "metadata": {},
     "output_type": "execute_result"
    }
   ],
   "source": [
    "list(np.arange(1.4,5.4,0.2))"
   ]
  },
  {
   "cell_type": "markdown",
   "id": "9b138fa2-1396-49f9-8d6e-be22b1c69327",
   "metadata": {},
   "source": [
    "#### Linspace function: \n",
    "It will divide the datasets from start till end into the pieces equal to the given value(no of datasets to generate)"
   ]
  },
  {
   "cell_type": "code",
   "execution_count": 6,
   "id": "e31ed0b8-0f00-4596-bb19-afaa82e45421",
   "metadata": {},
   "outputs": [
    {
     "data": {
      "text/plain": [
       "array([1.        , 1.28571429, 1.57142857, 1.85714286, 2.14285714,\n",
       "       2.42857143, 2.71428571, 3.        , 3.28571429, 3.57142857,\n",
       "       3.85714286, 4.14285714, 4.42857143, 4.71428571, 5.        ])"
      ]
     },
     "execution_count": 6,
     "metadata": {},
     "output_type": "execute_result"
    }
   ],
   "source": [
    "np.linspace(1,5,15)  # (start, end, no of datasets to generate)"
   ]
  },
  {
   "cell_type": "markdown",
   "id": "3dba684d-9d90-4a2f-8290-a867e690f86f",
   "metadata": {},
   "source": [
    "#### Logspace function: \n",
    "it will divide the datasets from start till end into the logarithmic pieces equal to the given value(no of datasets to generate)"
   ]
  },
  {
   "cell_type": "code",
   "execution_count": 7,
   "id": "ef062ffd-42b2-460c-83ce-681c42b68860",
   "metadata": {},
   "outputs": [
    {
     "data": {
      "text/plain": [
       "array([1.00000000e+01, 1.62377674e+01, 2.63665090e+01, 4.28133240e+01,\n",
       "       6.95192796e+01, 1.12883789e+02, 1.83298071e+02, 2.97635144e+02,\n",
       "       4.83293024e+02, 7.84759970e+02, 1.27427499e+03, 2.06913808e+03,\n",
       "       3.35981829e+03, 5.45559478e+03, 8.85866790e+03, 1.43844989e+04,\n",
       "       2.33572147e+04, 3.79269019e+04, 6.15848211e+04, 1.00000000e+05])"
      ]
     },
     "execution_count": 7,
     "metadata": {},
     "output_type": "execute_result"
    }
   ],
   "source": [
    "np.logspace(1,5,20)     #(start, end, no of datasets to generate)\n",
    "# By-default the base is 10"
   ]
  },
  {
   "cell_type": "code",
   "execution_count": 8,
   "id": "ec97fe04-44fa-4ce3-8f36-92376894d0e5",
   "metadata": {},
   "outputs": [
    {
     "data": {
      "text/plain": [
       "array([ 2.        ,  2.31422047,  2.6778082 ,  3.09851928,  3.58532838,\n",
       "        4.14862018,  4.80041088,  5.55460457,  6.42728981,  7.43708284,\n",
       "        8.60552469,  9.95754072, 11.5219723 , 13.3321921 , 15.42681597,\n",
       "       17.85052668, 20.65502717, 23.90014339, 27.65510059, 32.        ])"
      ]
     },
     "execution_count": 8,
     "metadata": {},
     "output_type": "execute_result"
    }
   ],
   "source": [
    "np.logspace(1,5,20,base=2)   # By-default the base is 10"
   ]
  },
  {
   "cell_type": "code",
   "execution_count": 9,
   "id": "320e9a36-24b0-47e3-8813-9efe98508b6b",
   "metadata": {},
   "outputs": [
    {
     "data": {
      "text/plain": [
       "array([0., 0., 0., 0., 0.])"
      ]
     },
     "execution_count": 9,
     "metadata": {},
     "output_type": "execute_result"
    }
   ],
   "source": [
    "# generate the array datasets with 0 \n",
    "np.zeros(5)"
   ]
  },
  {
   "cell_type": "code",
   "execution_count": 10,
   "id": "a9c02d7e-dda6-4651-a2fe-7c71d61ad811",
   "metadata": {},
   "outputs": [
    {
     "data": {
      "text/plain": [
       "array([[0., 0., 0., 0., 0.],\n",
       "       [0., 0., 0., 0., 0.],\n",
       "       [0., 0., 0., 0., 0.]])"
      ]
     },
     "execution_count": 10,
     "metadata": {},
     "output_type": "execute_result"
    }
   ],
   "source": [
    "np.zeros([3,5])   # Zeroes with rows and column"
   ]
  },
  {
   "cell_type": "code",
   "execution_count": 11,
   "id": "dccfe0b0-39f5-45d8-b528-2d826dd1ff65",
   "metadata": {},
   "outputs": [
    {
     "data": {
      "text/plain": [
       "array([[[0., 0., 0.],\n",
       "        [0., 0., 0.],\n",
       "        [0., 0., 0.],\n",
       "        [0., 0., 0.]],\n",
       "\n",
       "       [[0., 0., 0.],\n",
       "        [0., 0., 0.],\n",
       "        [0., 0., 0.],\n",
       "        [0., 0., 0.]],\n",
       "\n",
       "       [[0., 0., 0.],\n",
       "        [0., 0., 0.],\n",
       "        [0., 0., 0.],\n",
       "        [0., 0., 0.]]])"
      ]
     },
     "execution_count": 11,
     "metadata": {},
     "output_type": "execute_result"
    }
   ],
   "source": [
    "#Generate 3-Dimensions array daatsets with zeroes\n",
    "np.zeros([3,4,3])   # (no of inner matrix, rows of each matrix, cloumn of each matrix)"
   ]
  },
  {
   "cell_type": "code",
   "execution_count": null,
   "id": "566adcb1-53d1-44b8-9ad9-bac5ab482d4c",
   "metadata": {},
   "outputs": [],
   "source": [
    "# we can't visualize more than 3 dimension but we can generate 3-d or more than that"
   ]
  },
  {
   "cell_type": "code",
   "execution_count": 12,
   "id": "5a9ff8f5-6114-4365-8be1-b50339afcaae",
   "metadata": {},
   "outputs": [
    {
     "data": {
      "text/plain": [
       "array([[[[0., 0., 0.],\n",
       "         [0., 0., 0.]],\n",
       "\n",
       "        [[0., 0., 0.],\n",
       "         [0., 0., 0.]],\n",
       "\n",
       "        [[0., 0., 0.],\n",
       "         [0., 0., 0.]],\n",
       "\n",
       "        [[0., 0., 0.],\n",
       "         [0., 0., 0.]]],\n",
       "\n",
       "\n",
       "       [[[0., 0., 0.],\n",
       "         [0., 0., 0.]],\n",
       "\n",
       "        [[0., 0., 0.],\n",
       "         [0., 0., 0.]],\n",
       "\n",
       "        [[0., 0., 0.],\n",
       "         [0., 0., 0.]],\n",
       "\n",
       "        [[0., 0., 0.],\n",
       "         [0., 0., 0.]]],\n",
       "\n",
       "\n",
       "       [[[0., 0., 0.],\n",
       "         [0., 0., 0.]],\n",
       "\n",
       "        [[0., 0., 0.],\n",
       "         [0., 0., 0.]],\n",
       "\n",
       "        [[0., 0., 0.],\n",
       "         [0., 0., 0.]],\n",
       "\n",
       "        [[0., 0., 0.],\n",
       "         [0., 0., 0.]]]])"
      ]
     },
     "execution_count": 12,
     "metadata": {},
     "output_type": "execute_result"
    }
   ],
   "source": [
    "# 4-d matrix\n",
    "np.zeros([3,4,2,3])   # (n times outer , n times inner ,rows , columns)"
   ]
  },
  {
   "cell_type": "code",
   "execution_count": 13,
   "id": "fff000ec-67a6-4671-a7f5-5d6951fbd0f1",
   "metadata": {},
   "outputs": [
    {
     "data": {
      "text/plain": [
       "array([1., 1., 1., 1., 1.])"
      ]
     },
     "execution_count": 13,
     "metadata": {},
     "output_type": "execute_result"
    }
   ],
   "source": [
    "# Same as zeroes we can generate ones\n",
    "np.ones(5)"
   ]
  },
  {
   "cell_type": "code",
   "execution_count": 14,
   "id": "50ff6a23-8edf-4a14-935c-5c922bd5bfa2",
   "metadata": {},
   "outputs": [],
   "source": [
    "arr=np.ones([3,4])"
   ]
  },
  {
   "cell_type": "code",
   "execution_count": 15,
   "id": "10fb9c33-fe51-4e46-99d9-a0a40803ec68",
   "metadata": {},
   "outputs": [
    {
     "data": {
      "text/plain": [
       "array([[1., 1., 1., 1.],\n",
       "       [1., 1., 1., 1.],\n",
       "       [1., 1., 1., 1.]])"
      ]
     },
     "execution_count": 15,
     "metadata": {},
     "output_type": "execute_result"
    }
   ],
   "source": [
    "arr"
   ]
  },
  {
   "cell_type": "code",
   "execution_count": 16,
   "id": "30fa5a1d-8ac5-404f-b332-a1b14359445f",
   "metadata": {},
   "outputs": [
    {
     "data": {
      "text/plain": [
       "array([[6., 6., 6., 6.],\n",
       "       [6., 6., 6., 6.],\n",
       "       [6., 6., 6., 6.]])"
      ]
     },
     "execution_count": 16,
     "metadata": {},
     "output_type": "execute_result"
    }
   ],
   "source": [
    "arr+5   # add 5 to every element"
   ]
  },
  {
   "cell_type": "code",
   "execution_count": 17,
   "id": "965ebe1c-dcce-4234-813a-4365a7a1ed49",
   "metadata": {},
   "outputs": [
    {
     "data": {
      "text/plain": [
       "array([[4., 4., 4., 4.],\n",
       "       [4., 4., 4., 4.],\n",
       "       [4., 4., 4., 4.]])"
      ]
     },
     "execution_count": 17,
     "metadata": {},
     "output_type": "execute_result"
    }
   ],
   "source": [
    "arr*4"
   ]
  },
  {
   "cell_type": "code",
   "execution_count": 18,
   "id": "daf1aebe-04fb-4af6-bf1a-957d30423f53",
   "metadata": {},
   "outputs": [
    {
     "data": {
      "text/plain": [
       "array([[4., 4., 4., 4.],\n",
       "       [4., 4., 4., 4.],\n",
       "       [4., 4., 4., 4.]])"
      ]
     },
     "execution_count": 18,
     "metadata": {},
     "output_type": "execute_result"
    }
   ],
   "source": [
    "np.empty((3,4))   # other way of creating an array"
   ]
  },
  {
   "cell_type": "markdown",
   "id": "b351e2d4-a73b-45d8-a9e3-2171330f5f47",
   "metadata": {},
   "source": [
    "#### Eye function : This will create an identity matrix \n",
    "determinate of identity matrix is going to be 1\n",
    "\n",
    "Identity matrix is always a square matrix (rows = column)"
   ]
  },
  {
   "cell_type": "code",
   "execution_count": 19,
   "id": "e319e8f8-2a99-430b-b24f-a8e2f74b459d",
   "metadata": {},
   "outputs": [],
   "source": [
    "arr1=np.eye((3))  "
   ]
  },
  {
   "cell_type": "code",
   "execution_count": 20,
   "id": "4142471b-3634-44aa-9403-7848446823f8",
   "metadata": {},
   "outputs": [
    {
     "data": {
      "text/plain": [
       "array([[1., 0., 0.],\n",
       "       [0., 1., 0.],\n",
       "       [0., 0., 1.]])"
      ]
     },
     "execution_count": 20,
     "metadata": {},
     "output_type": "execute_result"
    }
   ],
   "source": [
    "arr1"
   ]
  },
  {
   "cell_type": "code",
   "execution_count": 22,
   "id": "59082940-25ab-499b-b14a-790b169aadf8",
   "metadata": {},
   "outputs": [
    {
     "data": {
      "text/html": [
       "<div>\n",
       "<style scoped>\n",
       "    .dataframe tbody tr th:only-of-type {\n",
       "        vertical-align: middle;\n",
       "    }\n",
       "\n",
       "    .dataframe tbody tr th {\n",
       "        vertical-align: top;\n",
       "    }\n",
       "\n",
       "    .dataframe thead th {\n",
       "        text-align: right;\n",
       "    }\n",
       "</style>\n",
       "<table border=\"1\" class=\"dataframe\">\n",
       "  <thead>\n",
       "    <tr style=\"text-align: right;\">\n",
       "      <th></th>\n",
       "      <th>0</th>\n",
       "      <th>1</th>\n",
       "      <th>2</th>\n",
       "    </tr>\n",
       "  </thead>\n",
       "  <tbody>\n",
       "    <tr>\n",
       "      <th>0</th>\n",
       "      <td>1.0</td>\n",
       "      <td>0.0</td>\n",
       "      <td>0.0</td>\n",
       "    </tr>\n",
       "    <tr>\n",
       "      <th>1</th>\n",
       "      <td>0.0</td>\n",
       "      <td>1.0</td>\n",
       "      <td>0.0</td>\n",
       "    </tr>\n",
       "    <tr>\n",
       "      <th>2</th>\n",
       "      <td>0.0</td>\n",
       "      <td>0.0</td>\n",
       "      <td>1.0</td>\n",
       "    </tr>\n",
       "  </tbody>\n",
       "</table>\n",
       "</div>"
      ],
      "text/plain": [
       "     0    1    2\n",
       "0  1.0  0.0  0.0\n",
       "1  0.0  1.0  0.0\n",
       "2  0.0  0.0  1.0"
      ]
     },
     "execution_count": 22,
     "metadata": {},
     "output_type": "execute_result"
    }
   ],
   "source": [
    "#Convert the array in the dataframe\n",
    "import pandas as pd\n",
    "pd.DataFrame(arr1)"
   ]
  },
  {
   "cell_type": "code",
   "execution_count": 23,
   "id": "8ffb6ac4-b4ec-4508-8704-433527925af6",
   "metadata": {},
   "outputs": [
    {
     "data": {
      "text/plain": [
       "array([[0.93007406, 0.94722872],\n",
       "       [0.19884144, 0.83994061],\n",
       "       [0.09492761, 0.66428235]])"
      ]
     },
     "execution_count": 23,
     "metadata": {},
     "output_type": "execute_result"
    }
   ],
   "source": [
    "# Other way of generating random data \n",
    "np.random.rand(3,2)"
   ]
  },
  {
   "cell_type": "code",
   "execution_count": 24,
   "id": "53dfd137-94e2-4ec3-bc28-5b9fa638749a",
   "metadata": {},
   "outputs": [
    {
     "data": {
      "text/plain": [
       "array([[ 0.73957228, -0.62917311],\n",
       "       [-0.18137286, -0.11654947],\n",
       "       [ 1.35763917,  0.4963981 ]])"
      ]
     },
     "execution_count": 24,
     "metadata": {},
     "output_type": "execute_result"
    }
   ],
   "source": [
    "np.random.randn(3,2)  "
   ]
  },
  {
   "cell_type": "markdown",
   "id": "a25cb49a-413f-43bb-adf5-4dc5ebe44b4d",
   "metadata": {},
   "source": [
    "#### Observation: Both the data generates some random data .\n",
    "What is the difference b/w both:\n",
    "    \n",
    "the random data generated by rand function can have any mean and standard deviation value \n",
    "\n",
    "But the random data generated by randn function have mean= 0 and sd= 1 (standard normal distribution)"
   ]
  },
  {
   "cell_type": "code",
   "execution_count": 25,
   "id": "528a41d1-a60d-43b5-b433-3c2598fb529d",
   "metadata": {},
   "outputs": [],
   "source": [
    "arr=np.random.randint(1,5,(3,4))   # ( start value , end value , (rows and columns))"
   ]
  },
  {
   "cell_type": "code",
   "execution_count": 26,
   "id": "e5c731b5-1cf5-43f8-b68d-5a8f17b8eb8b",
   "metadata": {},
   "outputs": [
    {
     "data": {
      "text/plain": [
       "array([[2, 3, 2, 1],\n",
       "       [4, 1, 3, 3],\n",
       "       [4, 3, 4, 3]])"
      ]
     },
     "execution_count": 26,
     "metadata": {},
     "output_type": "execute_result"
    }
   ],
   "source": [
    "arr      #The datasets is in between 1 to 5 and it contains 3 rows and 4 columns "
   ]
  },
  {
   "cell_type": "code",
   "execution_count": 27,
   "id": "29c747a3-a7d8-45ae-94cd-7cd7a6bd8798",
   "metadata": {},
   "outputs": [
    {
     "data": {
      "text/plain": [
       "(3, 4)"
      ]
     },
     "execution_count": 27,
     "metadata": {},
     "output_type": "execute_result"
    }
   ],
   "source": [
    "arr.shape"
   ]
  },
  {
   "cell_type": "code",
   "execution_count": null,
   "id": "e73a6f90-607a-4cce-bf06-dc7e059d10f7",
   "metadata": {},
   "outputs": [],
   "source": [
    "# Now change the shape of the array "
   ]
  },
  {
   "cell_type": "code",
   "execution_count": 28,
   "id": "ea6b96d1-b858-4daf-bd30-e0bb018c11d0",
   "metadata": {},
   "outputs": [
    {
     "data": {
      "text/plain": [
       "array([[2, 3],\n",
       "       [2, 1],\n",
       "       [4, 1],\n",
       "       [3, 3],\n",
       "       [4, 3],\n",
       "       [4, 3]])"
      ]
     },
     "execution_count": 28,
     "metadata": {},
     "output_type": "execute_result"
    }
   ],
   "source": [
    "arr.reshape(6,2)  #always provide the values whose multiplication will be equal to previous array size(12)"
   ]
  },
  {
   "cell_type": "code",
   "execution_count": 29,
   "id": "a3ec6ce2-797a-457a-97b1-5c234e8a4e88",
   "metadata": {},
   "outputs": [
    {
     "ename": "ValueError",
     "evalue": "cannot reshape array of size 12 into shape (5,2)",
     "output_type": "error",
     "traceback": [
      "\u001b[0;31m---------------------------------------------------------------------------\u001b[0m",
      "\u001b[0;31mValueError\u001b[0m                                Traceback (most recent call last)",
      "Cell \u001b[0;32mIn[29], line 1\u001b[0m\n\u001b[0;32m----> 1\u001b[0m \u001b[43marr\u001b[49m\u001b[38;5;241;43m.\u001b[39;49m\u001b[43mreshape\u001b[49m\u001b[43m(\u001b[49m\u001b[38;5;241;43m5\u001b[39;49m\u001b[43m,\u001b[49m\u001b[38;5;241;43m2\u001b[39;49m\u001b[43m)\u001b[49m  \u001b[38;5;66;03m#It will give error\u001b[39;00m\n",
      "\u001b[0;31mValueError\u001b[0m: cannot reshape array of size 12 into shape (5,2)"
     ]
    }
   ],
   "source": [
    "arr.reshape(5,2)  #It will give error"
   ]
  },
  {
   "cell_type": "code",
   "execution_count": 30,
   "id": "39b72b5d-0a67-4388-96b4-d19ac165fc96",
   "metadata": {},
   "outputs": [
    {
     "data": {
      "text/plain": [
       "array([[2, 3],\n",
       "       [2, 1],\n",
       "       [4, 1],\n",
       "       [3, 3],\n",
       "       [4, 3],\n",
       "       [4, 3]])"
      ]
     },
     "execution_count": 30,
     "metadata": {},
     "output_type": "execute_result"
    }
   ],
   "source": [
    "arr.reshape(6,-1)   # negative number will automatically guess the next multiplication term"
   ]
  },
  {
   "cell_type": "code",
   "execution_count": 31,
   "id": "1b30ea16-b046-4192-8f93-9c6f9e26fe87",
   "metadata": {},
   "outputs": [
    {
     "data": {
      "text/plain": [
       "array([[2, 3, 2],\n",
       "       [1, 4, 1],\n",
       "       [3, 3, 4],\n",
       "       [3, 4, 3]])"
      ]
     },
     "execution_count": 31,
     "metadata": {},
     "output_type": "execute_result"
    }
   ],
   "source": [
    "arr.reshape(4,-198233) #This negative value can be a any negative integer"
   ]
  },
  {
   "cell_type": "code",
   "execution_count": 32,
   "id": "73eb32f3-e9f9-4b8e-baf1-03789349cda8",
   "metadata": {},
   "outputs": [
    {
     "data": {
      "text/plain": [
       "array([[[2, 3, 2]],\n",
       "\n",
       "       [[1, 4, 1]],\n",
       "\n",
       "       [[3, 3, 4]],\n",
       "\n",
       "       [[3, 4, 3]]])"
      ]
     },
     "execution_count": 32,
     "metadata": {},
     "output_type": "execute_result"
    }
   ],
   "source": [
    "# we can also reshape to more than 2 dimension\n",
    "arr.reshape(4,1,3) # 3-d"
   ]
  },
  {
   "cell_type": "code",
   "execution_count": 35,
   "id": "b5039345-9b91-4e81-a029-decae87ea3ae",
   "metadata": {},
   "outputs": [
    {
     "data": {
      "text/plain": [
       "array([[[[2],\n",
       "         [3]],\n",
       "\n",
       "        [[2],\n",
       "         [1]],\n",
       "\n",
       "        [[4],\n",
       "         [1]]],\n",
       "\n",
       "\n",
       "       [[[3],\n",
       "         [3]],\n",
       "\n",
       "        [[4],\n",
       "         [3]],\n",
       "\n",
       "        [[4],\n",
       "         [3]]]])"
      ]
     },
     "execution_count": 35,
     "metadata": {},
     "output_type": "execute_result"
    }
   ],
   "source": [
    "arr.reshape(2,3,2,1)  # 4-d"
   ]
  },
  {
   "cell_type": "code",
   "execution_count": 48,
   "id": "e034f51e-e2f3-4487-a26f-0b9ba3dd8aa6",
   "metadata": {},
   "outputs": [],
   "source": [
    "# Now generate another array dataset \n",
    "arr3=np.random.randint(1,10,(5,6))"
   ]
  },
  {
   "cell_type": "code",
   "execution_count": 49,
   "id": "60a7947d-ea4a-4d91-b1a1-1c5b0070a8dc",
   "metadata": {},
   "outputs": [
    {
     "data": {
      "text/plain": [
       "array([[2, 4, 4, 3, 6, 1],\n",
       "       [5, 1, 6, 3, 4, 4],\n",
       "       [8, 5, 1, 3, 9, 9],\n",
       "       [6, 7, 9, 8, 4, 7],\n",
       "       [1, 7, 2, 9, 9, 8]])"
      ]
     },
     "execution_count": 49,
     "metadata": {},
     "output_type": "execute_result"
    }
   ],
   "source": [
    "arr3 # Generate values from 1 to 10 randomly row =5 and col=10"
   ]
  },
  {
   "cell_type": "code",
   "execution_count": 50,
   "id": "262bbec6-212e-4842-ad9a-b6eb4a7bb557",
   "metadata": {},
   "outputs": [
    {
     "data": {
      "text/plain": [
       "array([[False, False, False, False, False, False],\n",
       "       [False, False, False, False, False, False],\n",
       "       [False, False, False, False,  True,  True],\n",
       "       [False, False,  True, False, False, False],\n",
       "       [False, False, False,  True,  True, False]])"
      ]
     },
     "execution_count": 50,
     "metadata": {},
     "output_type": "execute_result"
    }
   ],
   "source": [
    "# Now filter out data that are greater than 8\n",
    "arr3 > 8"
   ]
  },
  {
   "cell_type": "code",
   "execution_count": 51,
   "id": "878f00c2-58a8-4909-bf11-72ff17be66c0",
   "metadata": {},
   "outputs": [
    {
     "data": {
      "text/plain": [
       "array([9, 9, 9, 9, 9])"
      ]
     },
     "execution_count": 51,
     "metadata": {},
     "output_type": "execute_result"
    }
   ],
   "source": [
    "arr3[arr3 > 8]   #The all the values greater than 8 is in this array"
   ]
  },
  {
   "cell_type": "code",
   "execution_count": 52,
   "id": "500e69bf-e35c-4967-b272-c285be0a04ee",
   "metadata": {},
   "outputs": [
    {
     "data": {
      "text/plain": [
       "array([[2, 4, 4, 3, 6, 1],\n",
       "       [5, 1, 6, 3, 4, 4],\n",
       "       [8, 5, 1, 3, 9, 9],\n",
       "       [6, 7, 9, 8, 4, 7],\n",
       "       [1, 7, 2, 9, 9, 8]])"
      ]
     },
     "execution_count": 52,
     "metadata": {},
     "output_type": "execute_result"
    }
   ],
   "source": [
    "arr3"
   ]
  },
  {
   "cell_type": "code",
   "execution_count": 53,
   "id": "bd4049a0-9219-4de7-b4d7-d86c0e626303",
   "metadata": {},
   "outputs": [
    {
     "data": {
      "text/plain": [
       "array([2, 4, 4, 3, 6, 1])"
      ]
     },
     "execution_count": 53,
     "metadata": {},
     "output_type": "execute_result"
    }
   ],
   "source": [
    "# Extract first 2 element together\n",
    "arr3[0]"
   ]
  },
  {
   "cell_type": "code",
   "execution_count": 56,
   "id": "bffc8c9d-f8b5-48bb-b107-1fc74051da52",
   "metadata": {},
   "outputs": [
    {
     "data": {
      "text/plain": [
       "array([2, 4])"
      ]
     },
     "execution_count": 56,
     "metadata": {},
     "output_type": "execute_result"
    }
   ],
   "source": [
    "arr3[0,[0,1]]   # answer"
   ]
  },
  {
   "cell_type": "code",
   "execution_count": null,
   "id": "33e55354-033c-44e6-83b2-b85ba08e6b8f",
   "metadata": {},
   "outputs": [],
   "source": [
    "# How to extract  [1 , 3]  in between\n",
    "#                 [9 , 8]"
   ]
  },
  {
   "cell_type": "code",
   "execution_count": 59,
   "id": "c7e0d294-b726-46f6-8f97-151c8d175151",
   "metadata": {},
   "outputs": [
    {
     "data": {
      "text/plain": [
       "array([[1, 3],\n",
       "       [9, 8]])"
      ]
     },
     "execution_count": 59,
     "metadata": {},
     "output_type": "execute_result"
    }
   ],
   "source": [
    "# List slicing and list indexing operation\n",
    "arr3[2:4,[2,3]]   # start from 2 go till 3 then get element at col index 2,3"
   ]
  },
  {
   "cell_type": "markdown",
   "id": "2f0daaf4-adc2-4071-a088-855a210beeab",
   "metadata": {},
   "source": [
    "#### Arithmetic operation on arrays"
   ]
  },
  {
   "cell_type": "code",
   "execution_count": 74,
   "id": "77727808-3b7c-4e39-8d07-1d64c1e12667",
   "metadata": {},
   "outputs": [],
   "source": [
    "arr1=np.random.randint(1,6,(3,3))"
   ]
  },
  {
   "cell_type": "code",
   "execution_count": 79,
   "id": "ec928c9f-3054-4722-a888-e5098dbc3d14",
   "metadata": {},
   "outputs": [],
   "source": [
    "arr2=np.random.randint(1,6,(3,3))"
   ]
  },
  {
   "cell_type": "code",
   "execution_count": 80,
   "id": "a6f9f1a5-3891-4273-af28-1c49b69c1cbd",
   "metadata": {},
   "outputs": [
    {
     "data": {
      "text/plain": [
       "array([[4, 1, 2],\n",
       "       [2, 1, 2],\n",
       "       [4, 4, 2]])"
      ]
     },
     "execution_count": 80,
     "metadata": {},
     "output_type": "execute_result"
    }
   ],
   "source": [
    "arr1"
   ]
  },
  {
   "cell_type": "code",
   "execution_count": 81,
   "id": "1473cd1d-b36a-4a96-ae90-fbb77f20c170",
   "metadata": {},
   "outputs": [
    {
     "data": {
      "text/plain": [
       "array([[2, 5, 2],\n",
       "       [4, 1, 5],\n",
       "       [3, 5, 2]])"
      ]
     },
     "execution_count": 81,
     "metadata": {},
     "output_type": "execute_result"
    }
   ],
   "source": [
    "arr2"
   ]
  },
  {
   "cell_type": "code",
   "execution_count": 82,
   "id": "4e5bbb82-e667-4553-abc2-dd2a8d6603ae",
   "metadata": {},
   "outputs": [
    {
     "data": {
      "text/plain": [
       "array([[6, 6, 4],\n",
       "       [6, 2, 7],\n",
       "       [7, 9, 4]])"
      ]
     },
     "execution_count": 82,
     "metadata": {},
     "output_type": "execute_result"
    }
   ],
   "source": [
    "arr1+arr2   #Index wise addition operation"
   ]
  },
  {
   "cell_type": "code",
   "execution_count": 83,
   "id": "ec54fc9a-0add-4d4a-9679-a12cbbae2ae6",
   "metadata": {},
   "outputs": [
    {
     "data": {
      "text/plain": [
       "array([[ 2, -4,  0],\n",
       "       [-2,  0, -3],\n",
       "       [ 1, -1,  0]])"
      ]
     },
     "execution_count": 83,
     "metadata": {},
     "output_type": "execute_result"
    }
   ],
   "source": [
    "arr1-arr2    #Index wise substraction operation"
   ]
  },
  {
   "cell_type": "code",
   "execution_count": 84,
   "id": "468ea516-b993-4476-a250-afd2314f15b0",
   "metadata": {},
   "outputs": [
    {
     "data": {
      "text/plain": [
       "array([[ 8,  5,  4],\n",
       "       [ 8,  1, 10],\n",
       "       [12, 20,  4]])"
      ]
     },
     "execution_count": 84,
     "metadata": {},
     "output_type": "execute_result"
    }
   ],
   "source": [
    "arr1*arr2   #Index wise multiplication operation (This is not a matrix multiplication.It is just a simple mul indexwise)"
   ]
  },
  {
   "attachments": {
    "48c82439-6aaa-425d-8f47-7bb556497372.png": {
     "image/png": "[encoded data removed]"
    }
   },
   "cell_type": "markdown",
   "id": "84fd77f0-a729-404f-bea8-97ad30620c78",
   "metadata": {},
   "source": [
    "2 matrix of size m * p  and n * q\n",
    "\n",
    "for performing matrix operation the p and n should be same and the resultant matrix would be of size m * q\n",
    "\n",
    "![image.png](attachment:48c82439-6aaa-425d-8f47-7bb556497372.png)\n"
   ]
  },
  {
   "cell_type": "raw",
   "id": "946a7618-fb6c-44f6-8b8e-631dd106f8fc",
   "metadata": {},
   "source": []
  },
  {
   "cell_type": "code",
   "execution_count": 85,
   "id": "8c07e48f-3945-40fd-8028-e6b95c835a66",
   "metadata": {},
   "outputs": [
    {
     "data": {
      "text/plain": [
       "array([[18, 31, 17],\n",
       "       [14, 21, 13],\n",
       "       [30, 34, 32]])"
      ]
     },
     "execution_count": 85,
     "metadata": {},
     "output_type": "execute_result"
    }
   ],
   "source": [
    "arr1@arr2   #This is matrix multiplication not simple multiply"
   ]
  },
  {
   "cell_type": "code",
   "execution_count": 86,
   "id": "eb80c56c-5e42-4609-a695-9bd07dbbe184",
   "metadata": {},
   "outputs": [
    {
     "data": {
      "text/plain": [
       "array([[2.        , 0.2       , 1.        ],\n",
       "       [0.5       , 1.        , 0.4       ],\n",
       "       [1.33333333, 0.8       , 1.        ]])"
      ]
     },
     "execution_count": 86,
     "metadata": {},
     "output_type": "execute_result"
    }
   ],
   "source": [
    "arr1/arr2   #Index wise division operation"
   ]
  },
  {
   "cell_type": "code",
   "execution_count": 87,
   "id": "c0ae3ba2-7fd7-4c11-8e89-55e1d280a84f",
   "metadata": {},
   "outputs": [
    {
     "data": {
      "text/plain": [
       "array([[0, 1, 0],\n",
       "       [2, 0, 2],\n",
       "       [1, 4, 0]])"
      ]
     },
     "execution_count": 87,
     "metadata": {},
     "output_type": "execute_result"
    }
   ],
   "source": [
    "arr1%arr2    #Index wise modulus operation"
   ]
  },
  {
   "cell_type": "code",
   "execution_count": 88,
   "id": "93e90c79-88be-44e5-ba59-5917e3015dc2",
   "metadata": {},
   "outputs": [
    {
     "name": "stderr",
     "output_type": "stream",
     "text": [
      "/tmp/ipykernel_130/1510032488.py:1: RuntimeWarning: divide by zero encountered in divide\n",
      "  arr1/0\n"
     ]
    },
    {
     "data": {
      "text/plain": [
       "array([[inf, inf, inf],\n",
       "       [inf, inf, inf],\n",
       "       [inf, inf, inf]])"
      ]
     },
     "execution_count": 88,
     "metadata": {},
     "output_type": "execute_result"
    }
   ],
   "source": [
    "arr1/0   # This is not giving the error( but giving the result as inf : infinity)"
   ]
  },
  {
   "cell_type": "markdown",
   "id": "b5ed87b0-6fc9-465d-8486-83fb72eabbe6",
   "metadata": {},
   "source": [
    "#### Broadcasting  :When a operation happens with every element of the array "
   ]
  },
  {
   "cell_type": "code",
   "execution_count": 90,
   "id": "ccae4826-72a4-4387-9188-3f29c618d12f",
   "metadata": {},
   "outputs": [],
   "source": [
    "arr5=np.zeros((3,5))"
   ]
  },
  {
   "cell_type": "code",
   "execution_count": 91,
   "id": "c5c2bd5d-0ccd-40c3-8d9b-9df6678b6a6e",
   "metadata": {},
   "outputs": [
    {
     "data": {
      "text/plain": [
       "array([[0., 0., 0., 0., 0.],\n",
       "       [0., 0., 0., 0., 0.],\n",
       "       [0., 0., 0., 0., 0.]])"
      ]
     },
     "execution_count": 91,
     "metadata": {},
     "output_type": "execute_result"
    }
   ],
   "source": [
    "arr5"
   ]
  },
  {
   "cell_type": "code",
   "execution_count": 94,
   "id": "654256fa-641e-4feb-8a06-274fa9ad48a5",
   "metadata": {},
   "outputs": [
    {
     "data": {
      "text/plain": [
       "array([[5., 5., 5., 5., 5.],\n",
       "       [5., 5., 5., 5., 5.],\n",
       "       [5., 5., 5., 5., 5.]])"
      ]
     },
     "execution_count": 94,
     "metadata": {},
     "output_type": "execute_result"
    }
   ],
   "source": [
    "arr5+5 #This is broading ( 5 is adding with every element of the array)"
   ]
  },
  {
   "cell_type": "code",
   "execution_count": 98,
   "id": "014fa3b7-1776-4c31-a834-1af713a906f4",
   "metadata": {},
   "outputs": [],
   "source": [
    "# Another Example\n",
    "a=np.array([1,2,3,4,5])"
   ]
  },
  {
   "cell_type": "code",
   "execution_count": 95,
   "id": "2f64b710-59b4-4f54-a58a-b737582a14e0",
   "metadata": {},
   "outputs": [
    {
     "data": {
      "text/plain": [
       "array([[0., 0., 0., 0., 0.],\n",
       "       [0., 0., 0., 0., 0.],\n",
       "       [0., 0., 0., 0., 0.]])"
      ]
     },
     "execution_count": 95,
     "metadata": {},
     "output_type": "execute_result"
    }
   ],
   "source": [
    "arr5"
   ]
  },
  {
   "cell_type": "code",
   "execution_count": 99,
   "id": "392a611f-3e27-44fd-b65a-d9f4896e0ef7",
   "metadata": {},
   "outputs": [
    {
     "data": {
      "text/plain": [
       "array([1, 2, 3, 4, 5])"
      ]
     },
     "execution_count": 99,
     "metadata": {},
     "output_type": "execute_result"
    }
   ],
   "source": [
    "a"
   ]
  },
  {
   "cell_type": "code",
   "execution_count": 100,
   "id": "ebbb194f-ff2e-445f-a8f1-427a8165a875",
   "metadata": {},
   "outputs": [
    {
     "data": {
      "text/plain": [
       "array([[1., 2., 3., 4., 5.],\n",
       "       [1., 2., 3., 4., 5.],\n",
       "       [1., 2., 3., 4., 5.]])"
      ]
     },
     "execution_count": 100,
     "metadata": {},
     "output_type": "execute_result"
    }
   ],
   "source": [
    "arr5+a    #Adding another array column-wise \n",
    "#This is also broadcasting"
   ]
  },
  {
   "cell_type": "code",
   "execution_count": 101,
   "id": "919d6193-2625-4801-ad32-dae2bbdf08ea",
   "metadata": {},
   "outputs": [],
   "source": [
    "#Nwow add another array row-wise\n",
    "b=np.array([1,2,3])"
   ]
  },
  {
   "cell_type": "code",
   "execution_count": 102,
   "id": "5fc31216-14f0-4dc8-a086-6e159c759d05",
   "metadata": {},
   "outputs": [
    {
     "data": {
      "text/plain": [
       "array([1, 2, 3])"
      ]
     },
     "execution_count": 102,
     "metadata": {},
     "output_type": "execute_result"
    }
   ],
   "source": [
    "b"
   ]
  },
  {
   "cell_type": "code",
   "execution_count": 103,
   "id": "3ca11a94-7b1b-4040-ac47-640221523818",
   "metadata": {},
   "outputs": [
    {
     "ename": "ValueError",
     "evalue": "operands could not be broadcast together with shapes (3,5) (3,) ",
     "output_type": "error",
     "traceback": [
      "\u001b[0;31m---------------------------------------------------------------------------\u001b[0m",
      "\u001b[0;31mValueError\u001b[0m                                Traceback (most recent call last)",
      "Cell \u001b[0;32mIn[103], line 1\u001b[0m\n\u001b[0;32m----> 1\u001b[0m \u001b[43marr5\u001b[49m\u001b[38;5;241;43m+\u001b[39;49m\u001b[43mb\u001b[49m\n",
      "\u001b[0;31mValueError\u001b[0m: operands could not be broadcast together with shapes (3,5) (3,) "
     ]
    }
   ],
   "source": [
    "arr5+b    #Giving error"
   ]
  },
  {
   "cell_type": "code",
   "execution_count": null,
   "id": "e737aaee-2c03-446b-897c-0a37a429cead",
   "metadata": {},
   "outputs": [],
   "source": [
    "#For performing operation rowwise,we have to rotate the array to overcome this error\n",
    "# We cannot rotate 1-d array we can only rotate 2-d and more d array"
   ]
  },
  {
   "cell_type": "code",
   "execution_count": 104,
   "id": "e1670541-9d51-4213-a0b7-d861f095dd11",
   "metadata": {},
   "outputs": [],
   "source": [
    "b=np.array([[1,2,3]])   #Make this 2-D first"
   ]
  },
  {
   "cell_type": "code",
   "execution_count": 106,
   "id": "ad0c310f-de2d-453d-a66e-b9ea09fee444",
   "metadata": {},
   "outputs": [
    {
     "data": {
      "text/plain": [
       "array([[1],\n",
       "       [2],\n",
       "       [3]])"
      ]
     },
     "execution_count": 106,
     "metadata": {},
     "output_type": "execute_result"
    }
   ],
   "source": [
    "b.T"
   ]
  },
  {
   "cell_type": "code",
   "execution_count": 107,
   "id": "e95da477-d667-4c46-84ee-1c85faad8de9",
   "metadata": {},
   "outputs": [],
   "source": [
    "new_arr=arr5+b.T   # Transpose the 2-D array then add it (to achieve rowwise addition)\n",
    "# this is also broadcasting"
   ]
  },
  {
   "cell_type": "code",
   "execution_count": 108,
   "id": "d945fecc-f2ff-478d-a9c4-3cf084153f13",
   "metadata": {},
   "outputs": [
    {
     "data": {
      "text/plain": [
       "array([[1., 1., 1., 1., 1.],\n",
       "       [2., 2., 2., 2., 2.],\n",
       "       [3., 3., 3., 3., 3.]])"
      ]
     },
     "execution_count": 108,
     "metadata": {},
     "output_type": "execute_result"
    }
   ],
   "source": [
    "new_arr"
   ]
  },
  {
   "cell_type": "code",
   "execution_count": null,
   "id": "e7670411-61f7-4135-8d86-0e6239740ee9",
   "metadata": {},
   "outputs": [],
   "source": [
    "#Now perform square root operation ,log operation ,exponent operation"
   ]
  },
  {
   "cell_type": "code",
   "execution_count": 109,
   "id": "6b7b8637-6413-4767-aedf-6b066f3c013c",
   "metadata": {},
   "outputs": [
    {
     "data": {
      "text/plain": [
       "array([[1.        , 1.        , 1.        , 1.        , 1.        ],\n",
       "       [1.41421356, 1.41421356, 1.41421356, 1.41421356, 1.41421356],\n",
       "       [1.73205081, 1.73205081, 1.73205081, 1.73205081, 1.73205081]])"
      ]
     },
     "execution_count": 109,
     "metadata": {},
     "output_type": "execute_result"
    }
   ],
   "source": [
    "np.sqrt(new_arr)  #Just pass any array"
   ]
  },
  {
   "cell_type": "code",
   "execution_count": 110,
   "id": "e6d5183d-2cac-474c-ba90-1652cf17214f",
   "metadata": {},
   "outputs": [
    {
     "data": {
      "text/plain": [
       "array([[0.        , 0.        , 0.        , 0.        , 0.        ],\n",
       "       [0.30103   , 0.30103   , 0.30103   , 0.30103   , 0.30103   ],\n",
       "       [0.47712125, 0.47712125, 0.47712125, 0.47712125, 0.47712125]])"
      ]
     },
     "execution_count": 110,
     "metadata": {},
     "output_type": "execute_result"
    }
   ],
   "source": [
    "np.log10(new_arr)    #Just pass any array"
   ]
  },
  {
   "cell_type": "code",
   "execution_count": 111,
   "id": "78b22115-7cd2-4e10-917b-15d83a33d73c",
   "metadata": {},
   "outputs": [
    {
     "data": {
      "text/plain": [
       "array([[ 2.71828183,  2.71828183,  2.71828183,  2.71828183,  2.71828183],\n",
       "       [ 7.3890561 ,  7.3890561 ,  7.3890561 ,  7.3890561 ,  7.3890561 ],\n",
       "       [20.08553692, 20.08553692, 20.08553692, 20.08553692, 20.08553692]])"
      ]
     },
     "execution_count": 111,
     "metadata": {},
     "output_type": "execute_result"
    }
   ],
   "source": [
    "np.exp(new_arr)     #Just pass any array"
   ]
  },
  {
   "cell_type": "code",
   "execution_count": 113,
   "id": "d9d6ee84-9c5b-4ef5-8a7f-a78248d1e7ca",
   "metadata": {},
   "outputs": [
    {
     "data": {
      "text/plain": [
       "1.0"
      ]
     },
     "execution_count": 113,
     "metadata": {},
     "output_type": "execute_result"
    }
   ],
   "source": [
    "np.min(new_arr) "
   ]
  },
  {
   "cell_type": "code",
   "execution_count": 112,
   "id": "14f787c0-b388-4812-8dc9-0f4906e9492c",
   "metadata": {},
   "outputs": [
    {
     "data": {
      "text/plain": [
       "3.0"
      ]
     },
     "execution_count": 112,
     "metadata": {},
     "output_type": "execute_result"
    }
   ],
   "source": [
    "np.max(new_arr) "
   ]
  }
 ],
 "metadata": {
  "kernelspec": {
   "display_name": "Python 3 (ipykernel)",
   "language": "python",
   "name": "python3"
  },
  "language_info": {
   "codemirror_mode": {
    "name": "ipython",
    "version": 3
   },
   "file_extension": ".py",
   "mimetype": "text/x-python",
   "name": "python",
   "nbconvert_exporter": "python",
   "pygments_lexer": "ipython3",
   "version": "3.10.8"
  }
 },
 "nbformat": 4,
 "nbformat_minor": 5
}
