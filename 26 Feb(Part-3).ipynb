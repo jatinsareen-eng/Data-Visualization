{
 "cells": [
  {
   "cell_type": "code",
   "execution_count": 1,
   "id": "60257aad-f886-4939-b608-7b93fc2c047e",
   "metadata": {},
   "outputs": [],
   "source": [
    "import numpy as np"
   ]
  },
  {
   "cell_type": "code",
   "execution_count": 6,
   "id": "4688a3a9-87be-4780-9f75-b217c76a6c98",
   "metadata": {},
   "outputs": [],
   "source": [
    "arr1=np.random.randint(1,5,(4,4))"
   ]
  },
  {
   "cell_type": "code",
   "execution_count": 7,
   "id": "8b7018ed-6fd3-49d2-a7ae-ad7e6639abce",
   "metadata": {},
   "outputs": [
    {
     "data": {
      "text/plain": [
       "array([[1, 1, 2, 2],\n",
       "       [2, 1, 2, 4],\n",
       "       [3, 3, 2, 1],\n",
       "       [2, 1, 2, 1]])"
      ]
     },
     "execution_count": 7,
     "metadata": {},
     "output_type": "execute_result"
    }
   ],
   "source": [
    "arr1"
   ]
  },
  {
   "cell_type": "markdown",
   "id": "f5abbc69-c6e9-4474-9da3-997274aa1ba7",
   "metadata": {},
   "source": [
    "#### Array manupulation"
   ]
  },
  {
   "cell_type": "code",
   "execution_count": 8,
   "id": "c313dc31-5b2e-4af2-a159-9d3220aafba1",
   "metadata": {},
   "outputs": [
    {
     "data": {
      "text/plain": [
       "array([[1, 1],\n",
       "       [2, 2],\n",
       "       [2, 1],\n",
       "       [2, 4],\n",
       "       [3, 3],\n",
       "       [2, 1],\n",
       "       [2, 1],\n",
       "       [2, 1]])"
      ]
     },
     "execution_count": 8,
     "metadata": {},
     "output_type": "execute_result"
    }
   ],
   "source": [
    "arr1.reshape(8,2)"
   ]
  },
  {
   "cell_type": "code",
   "execution_count": 9,
   "id": "1450e675-91e0-4c2a-be71-810533c4d912",
   "metadata": {},
   "outputs": [
    {
     "data": {
      "text/plain": [
       "array([[1, 2, 3, 2],\n",
       "       [1, 1, 3, 1],\n",
       "       [2, 2, 2, 2],\n",
       "       [2, 4, 1, 1]])"
      ]
     },
     "execution_count": 9,
     "metadata": {},
     "output_type": "execute_result"
    }
   ],
   "source": [
    "# Transpose (rotate the entire array by 180')\n",
    "arr1.T"
   ]
  },
  {
   "cell_type": "code",
   "execution_count": null,
   "id": "9ad3772a-e514-4ec6-84d4-88ad0b2efdc1",
   "metadata": {},
   "outputs": [],
   "source": [
    "#Flatten : Put all the data in 1-D array"
   ]
  },
  {
   "cell_type": "code",
   "execution_count": 11,
   "id": "21209cd9-d354-4a15-afb1-274649291036",
   "metadata": {},
   "outputs": [
    {
     "data": {
      "text/plain": [
       "array([1, 1, 2, 2, 2, 1, 2, 4, 3, 3, 2, 1, 2, 1, 2, 1])"
      ]
     },
     "execution_count": 11,
     "metadata": {},
     "output_type": "execute_result"
    }
   ],
   "source": [
    "arr1.flatten()"
   ]
  },
  {
   "cell_type": "code",
   "execution_count": null,
   "id": "5054eef3-f9d8-4fae-8640-2d6948474dd0",
   "metadata": {},
   "outputs": [],
   "source": [
    "# Expand dimension (increment dimension)"
   ]
  },
  {
   "cell_type": "code",
   "execution_count": 12,
   "id": "bd931419-938f-4145-aeb6-280b14d53974",
   "metadata": {},
   "outputs": [
    {
     "ename": "TypeError",
     "evalue": "_expand_dims_dispatcher() missing 1 required positional argument: 'axis'",
     "output_type": "error",
     "traceback": [
      "\u001b[0;31m---------------------------------------------------------------------------\u001b[0m",
      "\u001b[0;31mTypeError\u001b[0m                                 Traceback (most recent call last)",
      "Cell \u001b[0;32mIn[12], line 1\u001b[0m\n\u001b[0;32m----> 1\u001b[0m \u001b[43mnp\u001b[49m\u001b[38;5;241;43m.\u001b[39;49m\u001b[43mexpand_dims\u001b[49m\u001b[43m(\u001b[49m\u001b[43marr1\u001b[49m\u001b[43m)\u001b[49m\n",
      "File \u001b[0;32m<__array_function__ internals>:179\u001b[0m, in \u001b[0;36mexpand_dims\u001b[0;34m(*args, **kwargs)\u001b[0m\n",
      "\u001b[0;31mTypeError\u001b[0m: _expand_dims_dispatcher() missing 1 required positional argument: 'axis'"
     ]
    }
   ],
   "source": [
    "np.expand_dims(arr1)"
   ]
  },
  {
   "cell_type": "code",
   "execution_count": 15,
   "id": "375b98cb-6598-453a-9e11-d0b2cc6b4275",
   "metadata": {},
   "outputs": [
    {
     "data": {
      "text/plain": [
       "array([[[1, 1, 2, 2]],\n",
       "\n",
       "       [[2, 1, 2, 4]],\n",
       "\n",
       "       [[3, 3, 2, 1]],\n",
       "\n",
       "       [[2, 1, 2, 1]]])"
      ]
     },
     "execution_count": 15,
     "metadata": {},
     "output_type": "execute_result"
    }
   ],
   "source": [
    "np.expand_dims(arr1,axis=1)   #Expand D columnwise"
   ]
  },
  {
   "cell_type": "code",
   "execution_count": 16,
   "id": "79861638-7fd9-44cc-a31c-4b6fe4bb741b",
   "metadata": {},
   "outputs": [
    {
     "data": {
      "text/plain": [
       "array([[[1, 1, 2, 2],\n",
       "        [2, 1, 2, 4],\n",
       "        [3, 3, 2, 1],\n",
       "        [2, 1, 2, 1]]])"
      ]
     },
     "execution_count": 16,
     "metadata": {},
     "output_type": "execute_result"
    }
   ],
   "source": [
    "np.expand_dims(arr1,axis=0)   #Expand D rowwise"
   ]
  },
  {
   "cell_type": "code",
   "execution_count": null,
   "id": "90ddfe36-983d-443c-9c57-9852284ec001",
   "metadata": {},
   "outputs": [],
   "source": [
    "# squeeze function from larger dimension to one lower dimension"
   ]
  },
  {
   "cell_type": "code",
   "execution_count": 17,
   "id": "6dc13005-8011-4caa-b1a0-14f7e54e61b2",
   "metadata": {},
   "outputs": [],
   "source": [
    "arr2=np.array([[1],[2],[3]])   "
   ]
  },
  {
   "cell_type": "code",
   "execution_count": 18,
   "id": "ff2a4a29-9a87-43d9-af93-4980ff2248ca",
   "metadata": {},
   "outputs": [
    {
     "data": {
      "text/plain": [
       "array([[1],\n",
       "       [2],\n",
       "       [3]])"
      ]
     },
     "execution_count": 18,
     "metadata": {},
     "output_type": "execute_result"
    }
   ],
   "source": [
    "arr2"
   ]
  },
  {
   "cell_type": "code",
   "execution_count": 19,
   "id": "270e0d3f-1b78-42c3-b2a9-9d903ea30008",
   "metadata": {},
   "outputs": [
    {
     "data": {
      "text/plain": [
       "array([1, 2, 3])"
      ]
     },
     "execution_count": 19,
     "metadata": {},
     "output_type": "execute_result"
    }
   ],
   "source": [
    "np.squeeze(arr2)  #From 2 D to 1 D"
   ]
  },
  {
   "cell_type": "code",
   "execution_count": 21,
   "id": "6346ecd2-cd2c-47ef-8094-4f6106283d75",
   "metadata": {},
   "outputs": [
    {
     "data": {
      "text/plain": [
       "array([1, 1, 2, 2, 3, 3])"
      ]
     },
     "execution_count": 21,
     "metadata": {},
     "output_type": "execute_result"
    }
   ],
   "source": [
    "# repeat function\n",
    "np.repeat(arr2,2) # repeat the data of the array 2 times"
   ]
  },
  {
   "cell_type": "code",
   "execution_count": null,
   "id": "38845391-344e-4462-9f49-51a7d35684f2",
   "metadata": {},
   "outputs": [],
   "source": [
    "# ROll function: it roll the data in circular form for a specified no of times"
   ]
  },
  {
   "cell_type": "code",
   "execution_count": 23,
   "id": "96613fb0-44b6-4190-82fd-40940c59edb3",
   "metadata": {},
   "outputs": [
    {
     "data": {
      "text/plain": [
       "array([[3],\n",
       "       [1],\n",
       "       [2]])"
      ]
     },
     "execution_count": 23,
     "metadata": {},
     "output_type": "execute_result"
    }
   ],
   "source": [
    "np.roll(arr2,1) # last index comes first "
   ]
  },
  {
   "cell_type": "code",
   "execution_count": 24,
   "id": "75f2381f-2088-4286-bb13-030e54c30409",
   "metadata": {},
   "outputs": [
    {
     "data": {
      "text/plain": [
       "array([[2],\n",
       "       [3],\n",
       "       [1]])"
      ]
     },
     "execution_count": 24,
     "metadata": {},
     "output_type": "execute_result"
    }
   ],
   "source": [
    "np.roll(arr2,2) # last index comes first after 2 rolls "
   ]
  },
  {
   "cell_type": "code",
   "execution_count": 25,
   "id": "23e93e60-b63f-44d6-9acd-60b4efd5ea7b",
   "metadata": {},
   "outputs": [
    {
     "data": {
      "text/plain": [
       "array([[1],\n",
       "       [2],\n",
       "       [3]])"
      ]
     },
     "execution_count": 25,
     "metadata": {},
     "output_type": "execute_result"
    }
   ],
   "source": [
    "np.roll(arr2,3) # last index comes first after 3 rolls "
   ]
  },
  {
   "cell_type": "code",
   "execution_count": null,
   "id": "7e334cd4-4f3f-4d56-9aae-08e132da043c",
   "metadata": {},
   "outputs": [],
   "source": [
    "#diag function: It takes 1-D data as an argument and then place the element of that array on the diagonal of 2-D array "
   ]
  },
  {
   "cell_type": "code",
   "execution_count": 27,
   "id": "d0146c10-f74d-4731-b27f-94603aa9b330",
   "metadata": {},
   "outputs": [
    {
     "data": {
      "text/plain": [
       "array([[1, 0, 0, 0, 0],\n",
       "       [0, 2, 0, 0, 0],\n",
       "       [0, 0, 3, 0, 0],\n",
       "       [0, 0, 0, 4, 0],\n",
       "       [0, 0, 0, 0, 5]])"
      ]
     },
     "execution_count": 27,
     "metadata": {},
     "output_type": "execute_result"
    }
   ],
   "source": [
    "np.diag(np.array([1,2,3,4,5]))"
   ]
  },
  {
   "cell_type": "markdown",
   "id": "abaf33fa-ea11-499a-9ba3-e24d39391d95",
   "metadata": {},
   "source": [
    "#### Binary Operation : +,-,*,/,**,%,!,>,<,>=,<=,!=,=="
   ]
  },
  {
   "cell_type": "code",
   "execution_count": 29,
   "id": "a2fdb477-4ef8-4449-8674-62b0455421ec",
   "metadata": {},
   "outputs": [],
   "source": [
    "arr3=np.random.randint(1,10,(4,5))"
   ]
  },
  {
   "cell_type": "code",
   "execution_count": 28,
   "id": "4fd19880-b553-4479-a645-c198348c1133",
   "metadata": {},
   "outputs": [],
   "source": [
    "arr4=np.random.randint(1,10,(4,5))"
   ]
  },
  {
   "cell_type": "code",
   "execution_count": 30,
   "id": "da00f37f-b7d4-4301-a211-07d2b1fe7443",
   "metadata": {},
   "outputs": [
    {
     "data": {
      "text/plain": [
       "array([[5, 5, 3, 2, 9],\n",
       "       [2, 5, 4, 3, 8],\n",
       "       [1, 5, 7, 6, 5],\n",
       "       [1, 5, 1, 4, 2]])"
      ]
     },
     "execution_count": 30,
     "metadata": {},
     "output_type": "execute_result"
    }
   ],
   "source": [
    "arr3"
   ]
  },
  {
   "cell_type": "code",
   "execution_count": 31,
   "id": "0a15fcff-e706-470a-820d-fe6cc4a44dc0",
   "metadata": {},
   "outputs": [
    {
     "data": {
      "text/plain": [
       "array([[6, 2, 9, 9, 3],\n",
       "       [1, 8, 9, 3, 6],\n",
       "       [2, 3, 8, 1, 4],\n",
       "       [4, 3, 3, 3, 7]])"
      ]
     },
     "execution_count": 31,
     "metadata": {},
     "output_type": "execute_result"
    }
   ],
   "source": [
    "arr4"
   ]
  },
  {
   "cell_type": "code",
   "execution_count": 33,
   "id": "e33f8c11-0300-4532-bad3-01c922e09035",
   "metadata": {},
   "outputs": [
    {
     "data": {
      "text/plain": [
       "array([[  15625,      25,   19683,     512,     729],\n",
       "       [      2,  390625,  262144,      27,  262144],\n",
       "       [      1,     125, 5764801,       6,     625],\n",
       "       [      1,     125,       1,      64,     128]])"
      ]
     },
     "execution_count": 33,
     "metadata": {},
     "output_type": "execute_result"
    }
   ],
   "source": [
    "arr3**arr4  #power "
   ]
  },
  {
   "cell_type": "code",
   "execution_count": 35,
   "id": "e67ff7ea-49ea-4f54-9a63-a7b93bdee72d",
   "metadata": {},
   "outputs": [
    {
     "data": {
      "text/plain": [
       "array([[-5, -5, -3, -2, -9],\n",
       "       [-2, -5, -4, -3, -8],\n",
       "       [-1, -5, -7, -6, -5],\n",
       "       [-1, -5, -1, -4, -2]])"
      ]
     },
     "execution_count": 35,
     "metadata": {},
     "output_type": "execute_result"
    }
   ],
   "source": [
    "-arr3"
   ]
  },
  {
   "cell_type": "code",
   "execution_count": 37,
   "id": "a72e75cd-4416-4524-af59-e49fbc57a1b5",
   "metadata": {},
   "outputs": [
    {
     "data": {
      "text/plain": [
       "array([[False,  True, False, False,  True],\n",
       "       [ True, False, False, False,  True],\n",
       "       [False,  True, False,  True,  True],\n",
       "       [False,  True, False,  True, False]])"
      ]
     },
     "execution_count": 37,
     "metadata": {},
     "output_type": "execute_result"
    }
   ],
   "source": [
    "arr3>arr4"
   ]
  },
  {
   "cell_type": "markdown",
   "id": "704ee033-5492-4d89-90f5-27c765be90ec",
   "metadata": {},
   "source": [
    "#### String function : Every function of the string is simliar to the numpy.char class "
   ]
  },
  {
   "cell_type": "code",
   "execution_count": 38,
   "id": "374e66ce-df15-440e-8189-fbe1bac9b1ed",
   "metadata": {},
   "outputs": [],
   "source": [
    "arr6=np.array([\"Deepa\",\"Pooja\",\"Shivangi\",\"Aman\",\"Sachin\"])"
   ]
  },
  {
   "cell_type": "code",
   "execution_count": 39,
   "id": "61174abc-4046-4037-953c-9ec2bfe69a4e",
   "metadata": {},
   "outputs": [
    {
     "data": {
      "text/plain": [
       "array(['Deepa', 'Pooja', 'Shivangi', 'Aman', 'Sachin'], dtype='<U8')"
      ]
     },
     "execution_count": 39,
     "metadata": {},
     "output_type": "execute_result"
    }
   ],
   "source": [
    "arr6"
   ]
  },
  {
   "cell_type": "code",
   "execution_count": 42,
   "id": "5201d339-e2b2-4e78-a53e-076c62ae22ae",
   "metadata": {},
   "outputs": [
    {
     "data": {
      "text/plain": [
       "array(['DEEPA', 'POOJA', 'SHIVANGI', 'AMAN', 'SACHIN'], dtype='<U8')"
      ]
     },
     "execution_count": 42,
     "metadata": {},
     "output_type": "execute_result"
    }
   ],
   "source": [
    "np.char.upper(arr6)   #uppercase"
   ]
  },
  {
   "cell_type": "code",
   "execution_count": 44,
   "id": "a609a873-35cc-4ae6-9d62-55e0c1219565",
   "metadata": {},
   "outputs": [
    {
     "data": {
      "text/plain": [
       "array(['Deepa', 'Pooja', 'Shivangi', 'Aman', 'Sachin'], dtype='<U8')"
      ]
     },
     "execution_count": 44,
     "metadata": {},
     "output_type": "execute_result"
    }
   ],
   "source": [
    "np.char.title(arr6) "
   ]
  },
  {
   "cell_type": "code",
   "execution_count": 45,
   "id": "82cc597a-fe4f-44d5-9be6-4f4df9273e29",
   "metadata": {},
   "outputs": [
    {
     "data": {
      "text/plain": [
       "array(['Deepa', 'Pooja', 'Shivangi', 'Aman', 'Sachin'], dtype='<U8')"
      ]
     },
     "execution_count": 45,
     "metadata": {},
     "output_type": "execute_result"
    }
   ],
   "source": [
    "np.char.capitalize(arr6)   #Capitalize and title are similar"
   ]
  },
  {
   "cell_type": "markdown",
   "id": "21a4a30a-2af5-4152-8de2-dea5efbe42ef",
   "metadata": {},
   "source": [
    "#### Mathematical function"
   ]
  },
  {
   "cell_type": "code",
   "execution_count": 48,
   "id": "8773ae0e-91bb-40b3-a941-b7d9d678cf89",
   "metadata": {},
   "outputs": [
    {
     "data": {
      "text/plain": [
       "array([[5, 5, 3, 2, 9],\n",
       "       [2, 5, 4, 3, 8],\n",
       "       [1, 5, 7, 6, 5],\n",
       "       [1, 5, 1, 4, 2]])"
      ]
     },
     "execution_count": 48,
     "metadata": {},
     "output_type": "execute_result"
    }
   ],
   "source": [
    "arr3"
   ]
  },
  {
   "cell_type": "code",
   "execution_count": 49,
   "id": "b705b24b-4561-4728-bd31-1d1c4cc57003",
   "metadata": {},
   "outputs": [
    {
     "data": {
      "text/plain": [
       "array([[-0.95892427, -0.95892427,  0.14112001,  0.90929743,  0.41211849],\n",
       "       [ 0.90929743, -0.95892427, -0.7568025 ,  0.14112001,  0.98935825],\n",
       "       [ 0.84147098, -0.95892427,  0.6569866 , -0.2794155 , -0.95892427],\n",
       "       [ 0.84147098, -0.95892427,  0.84147098, -0.7568025 ,  0.90929743]])"
      ]
     },
     "execution_count": 49,
     "metadata": {},
     "output_type": "execute_result"
    }
   ],
   "source": [
    "#Determine the sinosoidal value of every thing \n",
    "np.sin(arr3)"
   ]
  },
  {
   "cell_type": "code",
   "execution_count": 50,
   "id": "477602f3-5edc-4217-a1c2-bbbc382adacf",
   "metadata": {},
   "outputs": [
    {
     "data": {
      "text/plain": [
       "array([[-3.38051501, -3.38051501, -0.14254654, -2.18503986, -0.45231566],\n",
       "       [-2.18503986, -3.38051501,  1.15782128, -0.14254654, -6.79971146],\n",
       "       [ 1.55740772, -3.38051501,  0.87144798, -0.29100619, -3.38051501],\n",
       "       [ 1.55740772, -3.38051501,  1.55740772,  1.15782128, -2.18503986]])"
      ]
     },
     "execution_count": 50,
     "metadata": {},
     "output_type": "execute_result"
    }
   ],
   "source": [
    "np.tan(arr3)"
   ]
  },
  {
   "cell_type": "code",
   "execution_count": 53,
   "id": "8045a377-57e5-45f1-a708-e7b6118bb3e2",
   "metadata": {},
   "outputs": [
    {
     "data": {
      "text/plain": [
       "array([[0.69897   , 0.69897   , 0.47712125, 0.30103   , 0.95424251],\n",
       "       [0.30103   , 0.69897   , 0.60205999, 0.47712125, 0.90308999],\n",
       "       [0.        , 0.69897   , 0.84509804, 0.77815125, 0.69897   ],\n",
       "       [0.        , 0.69897   , 0.        , 0.60205999, 0.30103   ]])"
      ]
     },
     "execution_count": 53,
     "metadata": {},
     "output_type": "execute_result"
    }
   ],
   "source": [
    "np.log10(arr3)"
   ]
  },
  {
   "cell_type": "code",
   "execution_count": 54,
   "id": "110816a4-e4c3-443e-9d59-f2211cd23e14",
   "metadata": {},
   "outputs": [
    {
     "data": {
      "text/plain": [
       "array([[1.48413159e+02, 1.48413159e+02, 2.00855369e+01, 7.38905610e+00,\n",
       "        8.10308393e+03],\n",
       "       [7.38905610e+00, 1.48413159e+02, 5.45981500e+01, 2.00855369e+01,\n",
       "        2.98095799e+03],\n",
       "       [2.71828183e+00, 1.48413159e+02, 1.09663316e+03, 4.03428793e+02,\n",
       "        1.48413159e+02],\n",
       "       [2.71828183e+00, 1.48413159e+02, 2.71828183e+00, 5.45981500e+01,\n",
       "        7.38905610e+00]])"
      ]
     },
     "execution_count": 54,
     "metadata": {},
     "output_type": "execute_result"
    }
   ],
   "source": [
    "np.exp(arr3)"
   ]
  },
  {
   "cell_type": "code",
   "execution_count": 55,
   "id": "1e9e31f4-1b7a-4dbe-b0e5-7e17b9c2ebb8",
   "metadata": {},
   "outputs": [
    {
     "data": {
      "text/plain": [
       "array([[125, 125,  27,   8, 729],\n",
       "       [  8, 125,  64,  27, 512],\n",
       "       [  1, 125, 343, 216, 125],\n",
       "       [  1, 125,   1,  64,   8]])"
      ]
     },
     "execution_count": 55,
     "metadata": {},
     "output_type": "execute_result"
    }
   ],
   "source": [
    "np.power(arr3,3)"
   ]
  },
  {
   "cell_type": "code",
   "execution_count": 56,
   "id": "5d194362-9de3-4f3e-99a0-22ae243e0f76",
   "metadata": {},
   "outputs": [
    {
     "data": {
      "text/plain": [
       "4.15"
      ]
     },
     "execution_count": 56,
     "metadata": {},
     "output_type": "execute_result"
    }
   ],
   "source": [
    "np.mean(arr3)"
   ]
  },
  {
   "cell_type": "code",
   "execution_count": 57,
   "id": "8520781e-e8a7-40c1-9927-9e5b5c67df95",
   "metadata": {},
   "outputs": [
    {
     "data": {
      "text/plain": [
       "4.5"
      ]
     },
     "execution_count": 57,
     "metadata": {},
     "output_type": "execute_result"
    }
   ],
   "source": [
    "np.median(arr3)"
   ]
  },
  {
   "cell_type": "code",
   "execution_count": 59,
   "id": "c083cab8-f2da-411d-a807-14e9fc6f9cb5",
   "metadata": {},
   "outputs": [
    {
     "data": {
      "text/plain": [
       "2.242208732477866"
      ]
     },
     "execution_count": 59,
     "metadata": {},
     "output_type": "execute_result"
    }
   ],
   "source": [
    "np.std(arr3)"
   ]
  },
  {
   "cell_type": "code",
   "execution_count": 60,
   "id": "fe3ca5ed-bba3-4ec3-8b50-6682e9c0911f",
   "metadata": {},
   "outputs": [
    {
     "data": {
      "text/plain": [
       "5.0275"
      ]
     },
     "execution_count": 60,
     "metadata": {},
     "output_type": "execute_result"
    }
   ],
   "source": [
    "np.var(arr3)"
   ]
  },
  {
   "cell_type": "code",
   "execution_count": 61,
   "id": "0faf656d-1178-4ff2-8b80-673603eb475e",
   "metadata": {},
   "outputs": [
    {
     "data": {
      "text/plain": [
       "1"
      ]
     },
     "execution_count": 61,
     "metadata": {},
     "output_type": "execute_result"
    }
   ],
   "source": [
    "np.min(arr3)"
   ]
  },
  {
   "cell_type": "code",
   "execution_count": 62,
   "id": "7170021b-8b42-4898-97d2-fd77b0441619",
   "metadata": {},
   "outputs": [
    {
     "data": {
      "text/plain": [
       "9"
      ]
     },
     "execution_count": 62,
     "metadata": {},
     "output_type": "execute_result"
    }
   ],
   "source": [
    "np.max(arr3)"
   ]
  },
  {
   "cell_type": "markdown",
   "id": "7cf1f395-7fb2-432b-8c52-ed7690c54ae2",
   "metadata": {},
   "source": [
    "#### Arithmetic operation"
   ]
  },
  {
   "cell_type": "code",
   "execution_count": 63,
   "id": "1d710777-cd25-4342-9cb2-83c59dcf177f",
   "metadata": {},
   "outputs": [
    {
     "data": {
      "text/plain": [
       "array([[5, 5, 3, 2, 9],\n",
       "       [2, 5, 4, 3, 8],\n",
       "       [1, 5, 7, 6, 5],\n",
       "       [1, 5, 1, 4, 2]])"
      ]
     },
     "execution_count": 63,
     "metadata": {},
     "output_type": "execute_result"
    }
   ],
   "source": [
    "arr3"
   ]
  },
  {
   "cell_type": "code",
   "execution_count": 64,
   "id": "6cded919-ebc4-42c0-af90-ecbea2f34f1d",
   "metadata": {},
   "outputs": [
    {
     "data": {
      "text/plain": [
       "array([[6, 2, 9, 9, 3],\n",
       "       [1, 8, 9, 3, 6],\n",
       "       [2, 3, 8, 1, 4],\n",
       "       [4, 3, 3, 3, 7]])"
      ]
     },
     "execution_count": 64,
     "metadata": {},
     "output_type": "execute_result"
    }
   ],
   "source": [
    "arr4"
   ]
  },
  {
   "cell_type": "code",
   "execution_count": 65,
   "id": "77668c6a-4103-4867-96a7-6d9e180a7599",
   "metadata": {},
   "outputs": [
    {
     "data": {
      "text/plain": [
       "array([[-1,  3, -6, -7,  6],\n",
       "       [ 1, -3, -5,  0,  2],\n",
       "       [-1,  2, -1,  5,  1],\n",
       "       [-3,  2, -2,  1, -5]])"
      ]
     },
     "execution_count": 65,
     "metadata": {},
     "output_type": "execute_result"
    }
   ],
   "source": [
    "arr3-arr4"
   ]
  },
  {
   "cell_type": "code",
   "execution_count": 66,
   "id": "1fd8f89c-6932-412f-a8b2-3f4e34c43001",
   "metadata": {},
   "outputs": [
    {
     "data": {
      "text/plain": [
       "array([[-1,  3, -6, -7,  6],\n",
       "       [ 1, -3, -5,  0,  2],\n",
       "       [-1,  2, -1,  5,  1],\n",
       "       [-3,  2, -2,  1, -5]])"
      ]
     },
     "execution_count": 66,
     "metadata": {},
     "output_type": "execute_result"
    }
   ],
   "source": [
    "np.subtract(arr3,arr4)   #Just the same function as above"
   ]
  },
  {
   "cell_type": "code",
   "execution_count": 67,
   "id": "be962ead-c411-4e31-a462-2855ac784e2e",
   "metadata": {},
   "outputs": [
    {
     "data": {
      "text/plain": [
       "array([[30, 10, 27, 18, 27],\n",
       "       [ 2, 40, 36,  9, 48],\n",
       "       [ 2, 15, 56,  6, 20],\n",
       "       [ 4, 15,  3, 12, 14]])"
      ]
     },
     "execution_count": 67,
     "metadata": {},
     "output_type": "execute_result"
    }
   ],
   "source": [
    "np.multiply(arr3,arr4)"
   ]
  },
  {
   "cell_type": "code",
   "execution_count": 69,
   "id": "081ef701-7d93-46b9-993b-019179a9f4c5",
   "metadata": {},
   "outputs": [
    {
     "data": {
      "text/plain": [
       "array([[5, 1, 3, 2, 0],\n",
       "       [0, 5, 4, 0, 2],\n",
       "       [1, 2, 7, 0, 1],\n",
       "       [1, 2, 1, 1, 2]])"
      ]
     },
     "execution_count": 69,
     "metadata": {},
     "output_type": "execute_result"
    }
   ],
   "source": [
    "np.mod(arr3,arr4)"
   ]
  },
  {
   "cell_type": "code",
   "execution_count": 70,
   "id": "b99cdcd3-6ebe-4443-be79-a13b34730bdd",
   "metadata": {},
   "outputs": [
    {
     "data": {
      "text/plain": [
       "array([[  15625,      25,   19683,     512,     729],\n",
       "       [      2,  390625,  262144,      27,  262144],\n",
       "       [      1,     125, 5764801,       6,     625],\n",
       "       [      1,     125,       1,      64,     128]])"
      ]
     },
     "execution_count": 70,
     "metadata": {},
     "output_type": "execute_result"
    }
   ],
   "source": [
    "np.power(arr3,arr4)"
   ]
  },
  {
   "cell_type": "code",
   "execution_count": 72,
   "id": "241c24ab-4483-4512-ad4d-df3efc12e78b",
   "metadata": {},
   "outputs": [
    {
     "data": {
      "text/plain": [
       "array([[2.23606798, 2.23606798, 1.73205081, 1.41421356, 3.        ],\n",
       "       [1.41421356, 2.23606798, 2.        , 1.73205081, 2.82842712],\n",
       "       [1.        , 2.23606798, 2.64575131, 2.44948974, 2.23606798],\n",
       "       [1.        , 2.23606798, 1.        , 2.        , 1.41421356]])"
      ]
     },
     "execution_count": 72,
     "metadata": {},
     "output_type": "execute_result"
    }
   ],
   "source": [
    "np.sqrt(arr3)"
   ]
  },
  {
   "cell_type": "markdown",
   "id": "946f82cf-7a30-4a0d-8d9f-22c9510f62f8",
   "metadata": {},
   "source": [
    "#### Statistical function :mean, mode, median, sd, var, min, max"
   ]
  }
 ],
 "metadata": {
  "kernelspec": {
   "display_name": "Python 3 (ipykernel)",
   "language": "python",
   "name": "python3"
  },
  "language_info": {
   "codemirror_mode": {
    "name": "ipython",
    "version": 3
   },
   "file_extension": ".py",
   "mimetype": "text/x-python",
   "name": "python",
   "nbconvert_exporter": "python",
   "pygments_lexer": "ipython3",
   "version": "3.10.8"
  }
 },
 "nbformat": 4,
 "nbformat_minor": 5
}
