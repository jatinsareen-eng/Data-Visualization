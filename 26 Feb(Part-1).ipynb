{
 "cells": [
  {
   "cell_type": "markdown",
   "id": "be623a07-c2fc-4917-b6dd-57b6e8932979",
   "metadata": {},
   "source": [
    "In intial days Matplotlib was present to perform numeric calculation.\n",
    "\n",
    "There is no numeric calculations happens in the python\n",
    "\n",
    "After that python researchers introducd numpy(numeric python) module to perform all the mathematical operation.\n",
    "\n",
    "NUmpy performm well on the matrix and the array "
   ]
  },
  {
   "cell_type": "code",
   "execution_count": 1,
   "id": "8027aa13-2a4e-4fcc-872f-c3f91b4051b5",
   "metadata": {},
   "outputs": [],
   "source": [
    "import numpy as np"
   ]
  },
  {
   "cell_type": "code",
   "execution_count": 2,
   "id": "0beb0f2f-ea71-4b48-98b0-394ced55c2e8",
   "metadata": {},
   "outputs": [],
   "source": [
    "l=[1,2,3,4,5]"
   ]
  },
  {
   "cell_type": "code",
   "execution_count": 3,
   "id": "7ccf07e1-a0fc-4368-a515-7089868452b5",
   "metadata": {},
   "outputs": [],
   "source": [
    "# Convert list into array\n",
    "arr=np.array(l)"
   ]
  },
  {
   "cell_type": "code",
   "execution_count": 4,
   "id": "30d4be58-1920-446f-9b34-0a8898f43a2c",
   "metadata": {},
   "outputs": [
    {
     "data": {
      "text/plain": [
       "numpy.ndarray"
      ]
     },
     "execution_count": 4,
     "metadata": {},
     "output_type": "execute_result"
    }
   ],
   "source": [
    "type(arr)   # ndarray = n- dimensional array"
   ]
  },
  {
   "cell_type": "code",
   "execution_count": 5,
   "id": "39fb1326-4812-4ce1-a3b8-4208d439585f",
   "metadata": {},
   "outputs": [],
   "source": [
    "# Another way of creating array\n",
    "arr1=np.asarray(l)"
   ]
  },
  {
   "cell_type": "code",
   "execution_count": 6,
   "id": "62e5d5f8-3b7d-485c-a592-a8afde384a19",
   "metadata": {},
   "outputs": [
    {
     "data": {
      "text/plain": [
       "numpy.ndarray"
      ]
     },
     "execution_count": 6,
     "metadata": {},
     "output_type": "execute_result"
    }
   ],
   "source": [
    "type(arr1)"
   ]
  },
  {
   "cell_type": "code",
   "execution_count": 7,
   "id": "8b96070a-d66a-4b9e-b024-455a6bbc223d",
   "metadata": {},
   "outputs": [
    {
     "data": {
      "text/plain": [
       "1"
      ]
     },
     "execution_count": 7,
     "metadata": {},
     "output_type": "execute_result"
    }
   ],
   "source": [
    "arr1.ndim   #Tells the dimension of the array"
   ]
  },
  {
   "cell_type": "code",
   "execution_count": 8,
   "id": "66dd3717-28b6-4b70-8c2e-3f01f6ad2081",
   "metadata": {},
   "outputs": [],
   "source": [
    "l2=[[1,2,3],\n",
    "   [4,5,6]]"
   ]
  },
  {
   "cell_type": "code",
   "execution_count": 9,
   "id": "a7d0abbc-32b9-4a20-9508-0b81f7902731",
   "metadata": {},
   "outputs": [],
   "source": [
    "arr2=np.asarray(l2)"
   ]
  },
  {
   "cell_type": "code",
   "execution_count": 10,
   "id": "e8e83acc-e994-46c7-8e62-6032b1ae5d91",
   "metadata": {},
   "outputs": [
    {
     "data": {
      "text/plain": [
       "numpy.ndarray"
      ]
     },
     "execution_count": 10,
     "metadata": {},
     "output_type": "execute_result"
    }
   ],
   "source": [
    "type(arr2)"
   ]
  },
  {
   "cell_type": "code",
   "execution_count": 11,
   "id": "ffff7211-c3f5-4737-8bc6-1321d4b31b3b",
   "metadata": {},
   "outputs": [
    {
     "data": {
      "text/plain": [
       "2"
      ]
     },
     "execution_count": 11,
     "metadata": {},
     "output_type": "execute_result"
    }
   ],
   "source": [
    "arr2.ndim       #Tells the dimension of the array"
   ]
  },
  {
   "cell_type": "markdown",
   "id": "24def229-d8d6-4322-a1a4-d8e14dab5626",
   "metadata": {},
   "source": [
    "#### Visualize the 2-D array"
   ]
  },
  {
   "cell_type": "markdown",
   "id": "8d206f70-3f6a-4d0e-821d-634420206daf",
   "metadata": {},
   "source": [
    "#### Array can ne have a 1 dimension or more dimension\n",
    "#### But matrix can't be a 1 dimensiion it will always be 2 or more dimensions\n",
    "#### Matrix is a subclass of array in numpy"
   ]
  },
  {
   "cell_type": "code",
   "execution_count": 12,
   "id": "a00b3c1d-8606-4b39-b27f-78f87fb7dab7",
   "metadata": {},
   "outputs": [
    {
     "data": {
      "text/plain": [
       "[1, 2, 3, 4, 5]"
      ]
     },
     "execution_count": 12,
     "metadata": {},
     "output_type": "execute_result"
    }
   ],
   "source": [
    "l"
   ]
  },
  {
   "cell_type": "code",
   "execution_count": 13,
   "id": "40de5163-38dc-4e92-8f98-2d0bf9a67c42",
   "metadata": {},
   "outputs": [],
   "source": [
    "# Matrix function will convert its argument into minimum 2-Dimensions\n",
    "mat=np.matrix(l)"
   ]
  },
  {
   "cell_type": "code",
   "execution_count": 14,
   "id": "7514fb66-3a64-4e1a-97c0-871d1f2b125b",
   "metadata": {},
   "outputs": [
    {
     "data": {
      "text/plain": [
       "matrix([[1, 2, 3, 4, 5]])"
      ]
     },
     "execution_count": 14,
     "metadata": {},
     "output_type": "execute_result"
    }
   ],
   "source": [
    "mat"
   ]
  },
  {
   "cell_type": "code",
   "execution_count": 15,
   "id": "699ac677-bbbe-4b5a-9adc-ab508cc5f691",
   "metadata": {},
   "outputs": [
    {
     "data": {
      "text/plain": [
       "numpy.matrix"
      ]
     },
     "execution_count": 15,
     "metadata": {},
     "output_type": "execute_result"
    }
   ],
   "source": [
    "type(mat)"
   ]
  },
  {
   "cell_type": "code",
   "execution_count": 16,
   "id": "6c365d5f-c96a-492a-8789-fa397b98811a",
   "metadata": {},
   "outputs": [
    {
     "data": {
      "text/plain": [
       "2"
      ]
     },
     "execution_count": 16,
     "metadata": {},
     "output_type": "execute_result"
    }
   ],
   "source": [
    "mat.ndim"
   ]
  },
  {
   "cell_type": "markdown",
   "id": "95c9a067-91d0-4291-bbb3-649b2d472fbb",
   "metadata": {},
   "source": [
    "#### Observation: Asanyarray function will convert its argument into a array if is not in a form of array But it is already is in a from of a array it will remain unchanged."
   ]
  },
  {
   "cell_type": "code",
   "execution_count": 17,
   "id": "f8f83d1a-7c85-4a16-9fd3-b006f12ff6ac",
   "metadata": {},
   "outputs": [
    {
     "data": {
      "text/plain": [
       "array([1, 2, 3, 4, 5])"
      ]
     },
     "execution_count": 17,
     "metadata": {},
     "output_type": "execute_result"
    }
   ],
   "source": [
    "#Now\n",
    "np.asanyarray(l)    #it does change into array"
   ]
  },
  {
   "cell_type": "code",
   "execution_count": 18,
   "id": "1e6b212a-3170-4dbc-92b4-1e8680f57314",
   "metadata": {},
   "outputs": [
    {
     "data": {
      "text/plain": [
       "matrix([[1, 2, 3, 4, 5]])"
      ]
     },
     "execution_count": 18,
     "metadata": {},
     "output_type": "execute_result"
    }
   ],
   "source": [
    "np.asanyarray(mat)   # matrix is subclass of array .thatswhy it does not change into array(remain same)"
   ]
  },
  {
   "cell_type": "markdown",
   "id": "1f626d75-99e2-4dbf-b4f5-f5314d7faedb",
   "metadata": {},
   "source": [
    "#### Shallow copy in array"
   ]
  },
  {
   "cell_type": "code",
   "execution_count": 19,
   "id": "97d48261-bdeb-42ba-99bf-efc5809eedb0",
   "metadata": {},
   "outputs": [
    {
     "data": {
      "text/plain": [
       "array([[1, 2, 3],\n",
       "       [4, 5, 6]])"
      ]
     },
     "execution_count": 19,
     "metadata": {},
     "output_type": "execute_result"
    }
   ],
   "source": [
    "arr2"
   ]
  },
  {
   "cell_type": "code",
   "execution_count": 20,
   "id": "47d4ac45-82ef-46c1-beec-6aa157dde7ab",
   "metadata": {},
   "outputs": [],
   "source": [
    "a=arr2    # Reassign into another variable"
   ]
  },
  {
   "cell_type": "code",
   "execution_count": 21,
   "id": "5d5baa97-40e3-48ec-b4e8-3adaf5cef128",
   "metadata": {},
   "outputs": [
    {
     "data": {
      "text/plain": [
       "array([[1, 2, 3],\n",
       "       [4, 5, 6]])"
      ]
     },
     "execution_count": 21,
     "metadata": {},
     "output_type": "execute_result"
    }
   ],
   "source": [
    "a"
   ]
  },
  {
   "cell_type": "code",
   "execution_count": 22,
   "id": "ea4cb95f-3678-43ec-a8ad-f6e558681c79",
   "metadata": {},
   "outputs": [],
   "source": [
    "a[1][0]=26    # Manipulate the copy"
   ]
  },
  {
   "cell_type": "code",
   "execution_count": 23,
   "id": "410224d1-ede0-4cc1-ab30-2f1fade128b7",
   "metadata": {},
   "outputs": [
    {
     "data": {
      "text/plain": [
       "array([[ 1,  2,  3],\n",
       "       [26,  5,  6]])"
      ]
     },
     "execution_count": 23,
     "metadata": {},
     "output_type": "execute_result"
    }
   ],
   "source": [
    "a"
   ]
  },
  {
   "cell_type": "code",
   "execution_count": 24,
   "id": "aed0ee8e-4b2b-4063-8b46-60ee0306cf4e",
   "metadata": {},
   "outputs": [
    {
     "data": {
      "text/plain": [
       "array([[ 1,  2,  3],\n",
       "       [26,  5,  6]])"
      ]
     },
     "execution_count": 24,
     "metadata": {},
     "output_type": "execute_result"
    }
   ],
   "source": [
    "arr2   #The real array is also get changed"
   ]
  },
  {
   "cell_type": "markdown",
   "id": "91624051-4eff-4b71-990e-ece48d8fe4df",
   "metadata": {},
   "source": [
    "#### Deep copy\n",
    "using copy function\n",
    "\n",
    "copy function :It stores the copy of the array inside a new memory location.That's why the change in one array will not affect the other array "
   ]
  },
  {
   "cell_type": "code",
   "execution_count": 25,
   "id": "5ad80db6-0818-40c2-8de1-3a1cfc622f8c",
   "metadata": {},
   "outputs": [
    {
     "data": {
      "text/plain": [
       "array([[ 1,  2,  3],\n",
       "       [26,  5,  6]])"
      ]
     },
     "execution_count": 25,
     "metadata": {},
     "output_type": "execute_result"
    }
   ],
   "source": [
    "arr2"
   ]
  },
  {
   "cell_type": "code",
   "execution_count": 26,
   "id": "ecc1722b-9954-49ef-b58f-8c8bd11a4601",
   "metadata": {},
   "outputs": [],
   "source": [
    "b=np.copy(arr2)     # Manipulate the copy"
   ]
  },
  {
   "cell_type": "code",
   "execution_count": 27,
   "id": "6d416a05-d244-45b4-8ee4-704420a8a884",
   "metadata": {},
   "outputs": [
    {
     "data": {
      "text/plain": [
       "array([[ 1,  2,  3],\n",
       "       [26,  5,  6]])"
      ]
     },
     "execution_count": 27,
     "metadata": {},
     "output_type": "execute_result"
    }
   ],
   "source": [
    "b"
   ]
  },
  {
   "cell_type": "code",
   "execution_count": 28,
   "id": "c0d89b62-0083-4b89-9d71-52e749c3f2af",
   "metadata": {},
   "outputs": [],
   "source": [
    "b[0][2]=15"
   ]
  },
  {
   "cell_type": "code",
   "execution_count": 29,
   "id": "2984687e-ca22-465e-af1e-0eeb89d84c5b",
   "metadata": {},
   "outputs": [
    {
     "data": {
      "text/plain": [
       "array([[ 1,  2, 15],\n",
       "       [26,  5,  6]])"
      ]
     },
     "execution_count": 29,
     "metadata": {},
     "output_type": "execute_result"
    }
   ],
   "source": [
    "b"
   ]
  },
  {
   "cell_type": "code",
   "execution_count": 30,
   "id": "4feb9297-3282-43f3-9468-4dba90a676f0",
   "metadata": {},
   "outputs": [
    {
     "data": {
      "text/plain": [
       "array([[ 1,  2,  3],\n",
       "       [26,  5,  6]])"
      ]
     },
     "execution_count": 30,
     "metadata": {},
     "output_type": "execute_result"
    }
   ],
   "source": [
    "arr2   # The original array will not get affected"
   ]
  },
  {
   "cell_type": "markdown",
   "id": "a1f9f3a1-a935-411f-910b-dba491cb05d0",
   "metadata": {},
   "source": [
    "#### Different functions in the numpy ( different ways to create array as datatypes )"
   ]
  },
  {
   "cell_type": "code",
   "execution_count": 31,
   "id": "04f2e262-b647-4c91-ac61-ebdaae31936e",
   "metadata": {},
   "outputs": [
    {
     "data": {
      "text/plain": [
       "array([[ True, False, False],\n",
       "       [False,  True, False],\n",
       "       [False, False,  True]])"
      ]
     },
     "execution_count": 31,
     "metadata": {},
     "output_type": "execute_result"
    }
   ],
   "source": [
    "# Fromfunction: It takes a function as an argument and based on that function it generates the datasets.\n",
    "np.fromfunction(lambda i,j: i==j,(3,3))   # variables and the shape of the array (3,3)"
   ]
  },
  {
   "cell_type": "code",
   "execution_count": 32,
   "id": "7ea4114d-12fa-4ff4-80ad-58819b11bf50",
   "metadata": {},
   "outputs": [
    {
     "data": {
      "text/plain": [
       "array([[0., 1., 2.],\n",
       "       [1., 2., 3.],\n",
       "       [2., 3., 4.]])"
      ]
     },
     "execution_count": 32,
     "metadata": {},
     "output_type": "execute_result"
    }
   ],
   "source": [
    "np.fromfunction(lambda i,j: i+j,(3,3)) "
   ]
  },
  {
   "cell_type": "code",
   "execution_count": 33,
   "id": "ffe4f3f9-c5e9-4821-aee1-7188b51dd5c0",
   "metadata": {},
   "outputs": [],
   "source": [
    "# Generator \n",
    "type1=list((i*i for i in range(5)))"
   ]
  },
  {
   "cell_type": "code",
   "execution_count": 34,
   "id": "65f2739f-22ce-4450-aa0e-61119da95e4e",
   "metadata": {},
   "outputs": [
    {
     "data": {
      "text/plain": [
       "[0, 1, 4, 9, 16]"
      ]
     },
     "execution_count": 34,
     "metadata": {},
     "output_type": "execute_result"
    }
   ],
   "source": [
    "type1"
   ]
  },
  {
   "cell_type": "code",
   "execution_count": 35,
   "id": "d624f33a-ae0d-434a-817f-a92d2a6c4b39",
   "metadata": {},
   "outputs": [
    {
     "data": {
      "text/plain": [
       "list"
      ]
     },
     "execution_count": 35,
     "metadata": {},
     "output_type": "execute_result"
    }
   ],
   "source": [
    "type(type1)"
   ]
  },
  {
   "cell_type": "markdown",
   "id": "43bec6e2-cfc8-4c7e-8126-d1271a6bdced",
   "metadata": {},
   "source": [
    "We can also write generator in the numpy as well\n",
    "\n",
    "using from iter function"
   ]
  },
  {
   "cell_type": "code",
   "execution_count": 36,
   "id": "b4dc5bfb-1262-4911-a401-6a089d0e0c5f",
   "metadata": {},
   "outputs": [],
   "source": [
    "iterable=(i*i for i in range(5))"
   ]
  },
  {
   "cell_type": "code",
   "execution_count": 37,
   "id": "022aa4be-f1d3-45e3-91fe-896da51aa2ac",
   "metadata": {},
   "outputs": [
    {
     "data": {
      "text/plain": [
       "array([ 0,  1,  4,  9, 16])"
      ]
     },
     "execution_count": 37,
     "metadata": {},
     "output_type": "execute_result"
    }
   ],
   "source": [
    "np.fromiter(iterable,int)   #It takes the datasets and the datatype"
   ]
  },
  {
   "cell_type": "code",
   "execution_count": 51,
   "id": "dc36b042-8db6-4567-8905-2a3e225347da",
   "metadata": {},
   "outputs": [
    {
     "data": {
      "text/plain": [
       "array([[0., 1., 2.],\n",
       "       [1., 2., 3.],\n",
       "       [2., 3., 4.]])"
      ]
     },
     "execution_count": 51,
     "metadata": {},
     "output_type": "execute_result"
    }
   ],
   "source": [
    "np.empty((3,3))   #This will give very small values to the array"
   ]
  },
  {
   "cell_type": "markdown",
   "id": "0acf2773-f373-4217-a269-c8c6dc3eaf58",
   "metadata": {},
   "source": [
    "#### Observation : The generation gives the list as an output but fromiter method is used to gives out a array"
   ]
  },
  {
   "cell_type": "code",
   "execution_count": 39,
   "id": "c3d799a5-4745-414e-b2af-cda03a4a6d3a",
   "metadata": {},
   "outputs": [],
   "source": [
    "# fromstring function: it takes the string as argument and then create the array datasets out of it ."
   ]
  },
  {
   "cell_type": "code",
   "execution_count": 40,
   "id": "603933de-9d60-4304-b730-908cfbec3cc3",
   "metadata": {},
   "outputs": [
    {
     "data": {
      "text/plain": [
       "array([23., 45., 56., 67.])"
      ]
     },
     "execution_count": 40,
     "metadata": {},
     "output_type": "execute_result"
    }
   ],
   "source": [
    "np.fromstring(\"23 45 56 67\",sep=\" \")    # It takes stirng and a seperator "
   ]
  },
  {
   "cell_type": "code",
   "execution_count": 41,
   "id": "f03dfe62-b463-43fb-a123-8083e1c098af",
   "metadata": {},
   "outputs": [
    {
     "data": {
      "text/plain": [
       "array([23., 45., 56., 67.])"
      ]
     },
     "execution_count": 41,
     "metadata": {},
     "output_type": "execute_result"
    }
   ],
   "source": [
    "np.fromstring(\"23,45,56,67\",sep=\",\")   #It return the array datasets"
   ]
  },
  {
   "cell_type": "markdown",
   "id": "354fc42d-c5e4-47e8-8766-0bd844a9f1b6",
   "metadata": {},
   "source": [
    "#### Query : How can we make 2-D array out of this functions"
   ]
  },
  {
   "cell_type": "markdown",
   "id": "95185d7e-b0ab-4e66-89c2-145689288186",
   "metadata": {},
   "source": [
    "####  Some other numpy function"
   ]
  },
  {
   "cell_type": "code",
   "execution_count": 42,
   "id": "d6c53970-2561-4cb2-bf67-1356c18a1534",
   "metadata": {},
   "outputs": [
    {
     "data": {
      "text/plain": [
       "array([[ 1,  2,  3],\n",
       "       [26,  5,  6]])"
      ]
     },
     "execution_count": 42,
     "metadata": {},
     "output_type": "execute_result"
    }
   ],
   "source": [
    "arr2"
   ]
  },
  {
   "cell_type": "code",
   "execution_count": 43,
   "id": "d929b31b-02c7-4c99-a859-cc9947fd5fe4",
   "metadata": {},
   "outputs": [
    {
     "data": {
      "text/plain": [
       "6"
      ]
     },
     "execution_count": 43,
     "metadata": {},
     "output_type": "execute_result"
    }
   ],
   "source": [
    "arr2.size   #IT gives the total no of element persent in the array"
   ]
  },
  {
   "cell_type": "code",
   "execution_count": 44,
   "id": "b172d227-ebe6-4161-a1eb-719b7ba1179b",
   "metadata": {},
   "outputs": [
    {
     "data": {
      "text/plain": [
       "array([1, 2, 3, 4, 5])"
      ]
     },
     "execution_count": 44,
     "metadata": {},
     "output_type": "execute_result"
    }
   ],
   "source": [
    "arr1"
   ]
  },
  {
   "cell_type": "code",
   "execution_count": 45,
   "id": "9041fd3c-f174-4ad6-9690-6377da16553d",
   "metadata": {},
   "outputs": [
    {
     "data": {
      "text/plain": [
       "5"
      ]
     },
     "execution_count": 45,
     "metadata": {},
     "output_type": "execute_result"
    }
   ],
   "source": [
    "arr1.size"
   ]
  },
  {
   "cell_type": "code",
   "execution_count": 46,
   "id": "d44abdd6-4370-4576-8a81-81325cce7f46",
   "metadata": {},
   "outputs": [
    {
     "data": {
      "text/plain": [
       "(5,)"
      ]
     },
     "execution_count": 46,
     "metadata": {},
     "output_type": "execute_result"
    }
   ],
   "source": [
    "arr1.shape    #It tells the no of row and columns "
   ]
  },
  {
   "cell_type": "code",
   "execution_count": 47,
   "id": "c4db0843-6289-40c4-9045-a2410fe40bc7",
   "metadata": {},
   "outputs": [
    {
     "data": {
      "text/plain": [
       "(2, 3)"
      ]
     },
     "execution_count": 47,
     "metadata": {},
     "output_type": "execute_result"
    }
   ],
   "source": [
    "arr2.shape  #It tells the no of row and columns "
   ]
  },
  {
   "cell_type": "code",
   "execution_count": 48,
   "id": "0f0abb81-207d-4efb-aa8b-727fc4b618e6",
   "metadata": {},
   "outputs": [
    {
     "data": {
      "text/plain": [
       "dtype('int64')"
      ]
     },
     "execution_count": 48,
     "metadata": {},
     "output_type": "execute_result"
    }
   ],
   "source": [
    "arr1.dtype   # Type of datatype of the element of the array"
   ]
  },
  {
   "cell_type": "code",
   "execution_count": 49,
   "id": "4d1c4956-6905-43f4-b153-91843576429a",
   "metadata": {},
   "outputs": [
    {
     "data": {
      "text/plain": [
       "dtype('int64')"
      ]
     },
     "execution_count": 49,
     "metadata": {},
     "output_type": "execute_result"
    }
   ],
   "source": [
    "arr2.dtype   # Type of datatype of the element of the array"
   ]
  }
 ],
 "metadata": {
  "kernelspec": {
   "display_name": "Python 3 (ipykernel)",
   "language": "python",
   "name": "python3"
  },
  "language_info": {
   "codemirror_mode": {
    "name": "ipython",
    "version": 3
   },
   "file_extension": ".py",
   "mimetype": "text/x-python",
   "name": "python",
   "nbconvert_exporter": "python",
   "pygments_lexer": "ipython3",
   "version": "3.10.8"
  }
 },
 "nbformat": 4,
 "nbformat_minor": 5
}
